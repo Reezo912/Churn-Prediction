{
 "cells": [
  {
   "cell_type": "markdown",
   "id": "38432e75",
   "metadata": {},
   "source": [
    "# Exploratory Data Analysis (EDA)"
   ]
  },
  {
   "cell_type": "markdown",
   "id": "be903c27",
   "metadata": {},
   "source": [
    "Utilizando el dataset de Olist, una plataforma de comercio electrónico brasileña, se plantea la hipótesis de que es posible predecir qué clientes presentan un patrón de comportamiento asociado al abandono del servicio (churn).\n",
    "\n",
    "Esta métrica es crucial para las empresas, ya que permite identificar de forma anticipada a los clientes en riesgo y aplicar estrategias de retención proactivas, lo cual puede traducirse en una mejora directa en los ingresos y en la fidelización a largo plazo.\n",
    "\n",
    "El conjunto de datos abarca compras realizadas entre septiembre de 2016 y octubre de 2018, e incluye información detallada sobre los pedidos, pagos, entregas, localización del cliente y puntuaciones de reseñas.\n",
    "\n",
    "Para efectos de este análisis, se define churn como aquellos clientes que no han realizado ninguna compra en los últimos 6 meses del periodo registrado. Esta ventana temporal es razonable dado el tipo de productos vendidos en la plataforma, que no exigen compras frecuentes ni suscripciones."
   ]
  },
  {
   "cell_type": "markdown",
   "id": "0ba14641",
   "metadata": {},
   "source": [
    "### Importado de librerias y dataset"
   ]
  },
  {
   "cell_type": "code",
   "execution_count": 1,
   "id": "c4ef036a",
   "metadata": {},
   "outputs": [],
   "source": [
    "from pathlib import Path\n",
    "\n",
    "import pandas as pd\n",
    "import numpy as np\n",
    "import matplotlib.pyplot as plt\n",
    "import seaborn as sns\n",
    "import datetime\n",
    "import folium"
   ]
  },
  {
   "cell_type": "code",
   "execution_count": 2,
   "id": "8394810d",
   "metadata": {},
   "outputs": [],
   "source": [
    "BASE_DIR = Path.cwd().parent\n",
    "DATA_DIR = (BASE_DIR / \"data\").resolve()\n",
    "\n",
    "df = pd.read_csv(DATA_DIR/\"processed/processed_dataset.csv\")"
   ]
  },
  {
   "cell_type": "markdown",
   "id": "3ad385f8",
   "metadata": {},
   "source": [
    "### Observación general"
   ]
  },
  {
   "cell_type": "markdown",
   "id": "088ca5e2",
   "metadata": {},
   "source": [
    "Lo primero es realizar una observación general del dataset"
   ]
  },
  {
   "cell_type": "code",
   "execution_count": 3,
   "id": "a491bc2d",
   "metadata": {},
   "outputs": [
    {
     "data": {
      "text/html": [
       "<div>\n",
       "<style scoped>\n",
       "    .dataframe tbody tr th:only-of-type {\n",
       "        vertical-align: middle;\n",
       "    }\n",
       "\n",
       "    .dataframe tbody tr th {\n",
       "        vertical-align: top;\n",
       "    }\n",
       "\n",
       "    .dataframe thead th {\n",
       "        text-align: right;\n",
       "    }\n",
       "</style>\n",
       "<table border=\"1\" class=\"dataframe\">\n",
       "  <thead>\n",
       "    <tr style=\"text-align: right;\">\n",
       "      <th></th>\n",
       "      <th>order_id</th>\n",
       "      <th>customer_id</th>\n",
       "      <th>order_status</th>\n",
       "      <th>order_purchase_timestamp</th>\n",
       "      <th>order_approved_at</th>\n",
       "      <th>order_delivered_carrier_date</th>\n",
       "      <th>order_delivered_customer_date</th>\n",
       "      <th>order_estimated_delivery_date</th>\n",
       "      <th>total_payment</th>\n",
       "      <th>payment_type</th>\n",
       "      <th>...</th>\n",
       "      <th>worst_review</th>\n",
       "      <th>mean_review_score</th>\n",
       "      <th>last_review</th>\n",
       "      <th>review_comment_message</th>\n",
       "      <th>review_comment_title</th>\n",
       "      <th>total_price</th>\n",
       "      <th>item_count</th>\n",
       "      <th>total_freight_value</th>\n",
       "      <th>customer_city</th>\n",
       "      <th>customer_state</th>\n",
       "    </tr>\n",
       "  </thead>\n",
       "  <tbody>\n",
       "    <tr>\n",
       "      <th>0</th>\n",
       "      <td>e481f51cbdc54678b7cc49136f2d6af7</td>\n",
       "      <td>9ef432eb6251297304e76186b10a928d</td>\n",
       "      <td>delivered</td>\n",
       "      <td>2017-10-02 10:56:33</td>\n",
       "      <td>2017-10-02 11:07:15</td>\n",
       "      <td>2017-10-04 19:55:00</td>\n",
       "      <td>2017-10-10 21:25:13</td>\n",
       "      <td>2017-10-18 00:00:00</td>\n",
       "      <td>38.71</td>\n",
       "      <td>voucher</td>\n",
       "      <td>...</td>\n",
       "      <td>4</td>\n",
       "      <td>4.0</td>\n",
       "      <td>4</td>\n",
       "      <td>Não testei o produto ainda, mas ele veio corre...</td>\n",
       "      <td>NaN</td>\n",
       "      <td>29.99</td>\n",
       "      <td>1</td>\n",
       "      <td>8.72</td>\n",
       "      <td>sao paulo</td>\n",
       "      <td>SP</td>\n",
       "    </tr>\n",
       "    <tr>\n",
       "      <th>1</th>\n",
       "      <td>53cdb2fc8bc7dce0b6741e2150273451</td>\n",
       "      <td>b0830fb4747a6c6d20dea0b8c802d7ef</td>\n",
       "      <td>delivered</td>\n",
       "      <td>2018-07-24 20:41:37</td>\n",
       "      <td>2018-07-26 03:24:27</td>\n",
       "      <td>2018-07-26 14:31:00</td>\n",
       "      <td>2018-08-07 15:27:45</td>\n",
       "      <td>2018-08-13 00:00:00</td>\n",
       "      <td>141.46</td>\n",
       "      <td>boleto</td>\n",
       "      <td>...</td>\n",
       "      <td>4</td>\n",
       "      <td>4.0</td>\n",
       "      <td>4</td>\n",
       "      <td>Muito bom o produto.</td>\n",
       "      <td>Muito boa a loja</td>\n",
       "      <td>118.70</td>\n",
       "      <td>1</td>\n",
       "      <td>22.76</td>\n",
       "      <td>barreiras</td>\n",
       "      <td>BA</td>\n",
       "    </tr>\n",
       "    <tr>\n",
       "      <th>2</th>\n",
       "      <td>47770eb9100c2d0c44946d9cf07ec65d</td>\n",
       "      <td>41ce2a54c0b03bf3443c3d931a367089</td>\n",
       "      <td>delivered</td>\n",
       "      <td>2018-08-08 08:38:49</td>\n",
       "      <td>2018-08-08 08:55:23</td>\n",
       "      <td>2018-08-08 13:50:00</td>\n",
       "      <td>2018-08-17 18:06:29</td>\n",
       "      <td>2018-09-04 00:00:00</td>\n",
       "      <td>179.12</td>\n",
       "      <td>credit_card</td>\n",
       "      <td>...</td>\n",
       "      <td>5</td>\n",
       "      <td>5.0</td>\n",
       "      <td>5</td>\n",
       "      <td>NaN</td>\n",
       "      <td>NaN</td>\n",
       "      <td>159.90</td>\n",
       "      <td>1</td>\n",
       "      <td>19.22</td>\n",
       "      <td>vianopolis</td>\n",
       "      <td>GO</td>\n",
       "    </tr>\n",
       "    <tr>\n",
       "      <th>3</th>\n",
       "      <td>949d5b44dbf5de918fe9c16f97b45f8a</td>\n",
       "      <td>f88197465ea7920adcdbec7375364d82</td>\n",
       "      <td>delivered</td>\n",
       "      <td>2017-11-18 19:28:06</td>\n",
       "      <td>2017-11-18 19:45:59</td>\n",
       "      <td>2017-11-22 13:39:59</td>\n",
       "      <td>2017-12-02 00:28:42</td>\n",
       "      <td>2017-12-15 00:00:00</td>\n",
       "      <td>72.20</td>\n",
       "      <td>credit_card</td>\n",
       "      <td>...</td>\n",
       "      <td>5</td>\n",
       "      <td>5.0</td>\n",
       "      <td>5</td>\n",
       "      <td>O produto foi exatamente o que eu esperava e e...</td>\n",
       "      <td>NaN</td>\n",
       "      <td>45.00</td>\n",
       "      <td>1</td>\n",
       "      <td>27.20</td>\n",
       "      <td>sao goncalo do amarante</td>\n",
       "      <td>RN</td>\n",
       "    </tr>\n",
       "    <tr>\n",
       "      <th>4</th>\n",
       "      <td>ad21c59c0840e6cb83a9ceb5573f8159</td>\n",
       "      <td>8ab97904e6daea8866dbdbc4fb7aad2c</td>\n",
       "      <td>delivered</td>\n",
       "      <td>2018-02-13 21:18:39</td>\n",
       "      <td>2018-02-13 22:20:29</td>\n",
       "      <td>2018-02-14 19:46:34</td>\n",
       "      <td>2018-02-16 18:17:02</td>\n",
       "      <td>2018-02-26 00:00:00</td>\n",
       "      <td>28.62</td>\n",
       "      <td>credit_card</td>\n",
       "      <td>...</td>\n",
       "      <td>5</td>\n",
       "      <td>5.0</td>\n",
       "      <td>5</td>\n",
       "      <td>NaN</td>\n",
       "      <td>NaN</td>\n",
       "      <td>19.90</td>\n",
       "      <td>1</td>\n",
       "      <td>8.72</td>\n",
       "      <td>santo andre</td>\n",
       "      <td>SP</td>\n",
       "    </tr>\n",
       "  </tbody>\n",
       "</table>\n",
       "<p>5 rows × 22 columns</p>\n",
       "</div>"
      ],
      "text/plain": [
       "                           order_id                       customer_id  \\\n",
       "0  e481f51cbdc54678b7cc49136f2d6af7  9ef432eb6251297304e76186b10a928d   \n",
       "1  53cdb2fc8bc7dce0b6741e2150273451  b0830fb4747a6c6d20dea0b8c802d7ef   \n",
       "2  47770eb9100c2d0c44946d9cf07ec65d  41ce2a54c0b03bf3443c3d931a367089   \n",
       "3  949d5b44dbf5de918fe9c16f97b45f8a  f88197465ea7920adcdbec7375364d82   \n",
       "4  ad21c59c0840e6cb83a9ceb5573f8159  8ab97904e6daea8866dbdbc4fb7aad2c   \n",
       "\n",
       "  order_status order_purchase_timestamp    order_approved_at  \\\n",
       "0    delivered      2017-10-02 10:56:33  2017-10-02 11:07:15   \n",
       "1    delivered      2018-07-24 20:41:37  2018-07-26 03:24:27   \n",
       "2    delivered      2018-08-08 08:38:49  2018-08-08 08:55:23   \n",
       "3    delivered      2017-11-18 19:28:06  2017-11-18 19:45:59   \n",
       "4    delivered      2018-02-13 21:18:39  2018-02-13 22:20:29   \n",
       "\n",
       "  order_delivered_carrier_date order_delivered_customer_date  \\\n",
       "0          2017-10-04 19:55:00           2017-10-10 21:25:13   \n",
       "1          2018-07-26 14:31:00           2018-08-07 15:27:45   \n",
       "2          2018-08-08 13:50:00           2018-08-17 18:06:29   \n",
       "3          2017-11-22 13:39:59           2017-12-02 00:28:42   \n",
       "4          2018-02-14 19:46:34           2018-02-16 18:17:02   \n",
       "\n",
       "  order_estimated_delivery_date  total_payment payment_type  ...  \\\n",
       "0           2017-10-18 00:00:00          38.71      voucher  ...   \n",
       "1           2018-08-13 00:00:00         141.46       boleto  ...   \n",
       "2           2018-09-04 00:00:00         179.12  credit_card  ...   \n",
       "3           2017-12-15 00:00:00          72.20  credit_card  ...   \n",
       "4           2018-02-26 00:00:00          28.62  credit_card  ...   \n",
       "\n",
       "   worst_review  mean_review_score  last_review  \\\n",
       "0             4                4.0            4   \n",
       "1             4                4.0            4   \n",
       "2             5                5.0            5   \n",
       "3             5                5.0            5   \n",
       "4             5                5.0            5   \n",
       "\n",
       "                              review_comment_message  review_comment_title  \\\n",
       "0  Não testei o produto ainda, mas ele veio corre...                   NaN   \n",
       "1                               Muito bom o produto.      Muito boa a loja   \n",
       "2                                                NaN                   NaN   \n",
       "3  O produto foi exatamente o que eu esperava e e...                   NaN   \n",
       "4                                                NaN                   NaN   \n",
       "\n",
       "  total_price item_count  total_freight_value            customer_city  \\\n",
       "0       29.99          1                 8.72                sao paulo   \n",
       "1      118.70          1                22.76                barreiras   \n",
       "2      159.90          1                19.22               vianopolis   \n",
       "3       45.00          1                27.20  sao goncalo do amarante   \n",
       "4       19.90          1                 8.72              santo andre   \n",
       "\n",
       "   customer_state  \n",
       "0              SP  \n",
       "1              BA  \n",
       "2              GO  \n",
       "3              RN  \n",
       "4              SP  \n",
       "\n",
       "[5 rows x 22 columns]"
      ]
     },
     "execution_count": 3,
     "metadata": {},
     "output_type": "execute_result"
    }
   ],
   "source": [
    "df.head()\n"
   ]
  },
  {
   "cell_type": "code",
   "execution_count": 4,
   "id": "0edd214a",
   "metadata": {},
   "outputs": [
    {
     "name": "stdout",
     "output_type": "stream",
     "text": [
      "<class 'pandas.core.frame.DataFrame'>\n",
      "RangeIndex: 97916 entries, 0 to 97915\n",
      "Data columns (total 22 columns):\n",
      " #   Column                         Non-Null Count  Dtype  \n",
      "---  ------                         --------------  -----  \n",
      " 0   order_id                       97916 non-null  object \n",
      " 1   customer_id                    97916 non-null  object \n",
      " 2   order_status                   97916 non-null  object \n",
      " 3   order_purchase_timestamp       97916 non-null  object \n",
      " 4   order_approved_at              97902 non-null  object \n",
      " 5   order_delivered_carrier_date   96925 non-null  object \n",
      " 6   order_delivered_customer_date  95829 non-null  object \n",
      " 7   order_estimated_delivery_date  97916 non-null  object \n",
      " 8   total_payment                  97916 non-null  float64\n",
      " 9   payment_type                   97916 non-null  object \n",
      " 10  max_installments               97916 non-null  int64  \n",
      " 11  total_reviews                  97916 non-null  int64  \n",
      " 12  worst_review                   97916 non-null  int64  \n",
      " 13  mean_review_score              97916 non-null  float64\n",
      " 14  last_review                    97916 non-null  int64  \n",
      " 15  review_comment_message         40311 non-null  object \n",
      " 16  review_comment_title           11464 non-null  object \n",
      " 17  total_price                    97916 non-null  float64\n",
      " 18  item_count                     97916 non-null  int64  \n",
      " 19  total_freight_value            97916 non-null  float64\n",
      " 20  customer_city                  97916 non-null  object \n",
      " 21  customer_state                 97916 non-null  object \n",
      "dtypes: float64(4), int64(5), object(13)\n",
      "memory usage: 16.4+ MB\n"
     ]
    }
   ],
   "source": [
    "df.info()"
   ]
  },
  {
   "cell_type": "markdown",
   "id": "55abbfcc",
   "metadata": {},
   "source": [
    "Las columnas de fechas, estan en formato object, hay que cambiarlas a datetime"
   ]
  },
  {
   "cell_type": "code",
   "execution_count": 5,
   "id": "f9ea1735",
   "metadata": {},
   "outputs": [],
   "source": [
    "date_cols = [\n",
    "    'order_purchase_timestamp', \n",
    "    'order_approved_at', \n",
    "    'order_delivered_carrier_date', \n",
    "    'order_delivered_customer_date', \n",
    "    'order_estimated_delivery_date'\n",
    "    ]\n",
    "\n",
    "for col in date_cols:\n",
    "    df[col] = pd.to_datetime(df[col])"
   ]
  },
  {
   "cell_type": "markdown",
   "id": "b31f6803",
   "metadata": {},
   "source": [
    "Una vez hecho esto comprobare los datos nulos de mi dataset, por el preproceso de estos datos, se que hay datos nulos en las columnas de reviews, vamos a ver que mas columnas pueden tener datos nulos, que tenemos que tener en cuenta."
   ]
  },
  {
   "cell_type": "code",
   "execution_count": 6,
   "id": "a8c4a07b",
   "metadata": {},
   "outputs": [
    {
     "data": {
      "text/plain": [
       "order_id                             0\n",
       "customer_id                          0\n",
       "order_status                         0\n",
       "order_purchase_timestamp             0\n",
       "order_approved_at                   14\n",
       "order_delivered_carrier_date       991\n",
       "order_delivered_customer_date     2087\n",
       "order_estimated_delivery_date        0\n",
       "total_payment                        0\n",
       "payment_type                         0\n",
       "max_installments                     0\n",
       "total_reviews                        0\n",
       "worst_review                         0\n",
       "mean_review_score                    0\n",
       "last_review                          0\n",
       "review_comment_message           57605\n",
       "review_comment_title             86452\n",
       "total_price                          0\n",
       "item_count                           0\n",
       "total_freight_value                  0\n",
       "customer_city                        0\n",
       "customer_state                       0\n",
       "dtype: int64"
      ]
     },
     "execution_count": 6,
     "metadata": {},
     "output_type": "execute_result"
    }
   ],
   "source": [
    "df.isnull().sum()"
   ]
  },
  {
   "cell_type": "markdown",
   "id": "709712c5",
   "metadata": {},
   "source": [
    "## Declaracion de mi variable Churn o Target"
   ]
  },
  {
   "cell_type": "markdown",
   "id": "e7c971a9",
   "metadata": {},
   "source": [
    "Como he indicado anteriormente, se considerara como Churn(abandono del servicio), cuando un cliente no haya utilizado la plataforma en los ultimos 6 meses. De esta manera, evitamos calificar como Churn la mayoria de compras estacionales y podemos afinar mejor nuestra prediccion."
   ]
  },
  {
   "cell_type": "code",
   "execution_count": 7,
   "id": "5cf7eced",
   "metadata": {},
   "outputs": [
    {
     "name": "stdout",
     "output_type": "stream",
     "text": [
      "Hay 0 order_id duplicados\n",
      "Hay 0 customer_id duplicados\n"
     ]
    }
   ],
   "source": [
    "# Lo primero es obtener las ultimas compras de cada cliente, para ello hay que comprobar que sean unicos nuestros codigos de cliente\n",
    "print('Hay', df['order_id'].duplicated().sum(), 'order_id duplicados')\n",
    "print('Hay', df['customer_id'].duplicated().sum(), 'customer_id duplicados')"
   ]
  },
  {
   "cell_type": "code",
   "execution_count": null,
   "id": "19e41199",
   "metadata": {},
   "outputs": [
    {
     "name": "stdout",
     "output_type": "stream",
     "text": [
      "\n",
      "Ventana: 90 días\n",
      "churn\n",
      "True     0.815822\n",
      "False    0.184178\n",
      "Name: proportion, dtype: float64\n",
      "\n",
      "Ventana: 180 días\n",
      "churn\n",
      "True     0.611024\n",
      "False    0.388976\n",
      "Name: proportion, dtype: float64\n",
      "\n",
      "Ventana: 365 días\n",
      "churn\n",
      "False    0.764247\n",
      "True     0.235753\n",
      "Name: proportion, dtype: float64\n"
     ]
    }
   ],
   "source": [
    "def churn_rate(df, days):\n",
    "    last_purchase = df.groupby('customer_id')['order_purchase_timestamp'].max().reset_index()\n",
    "    cutoff_date = df[\"order_purchase_timestamp\"].max() - pd.Timedelta(days=days)\n",
    "    last_purchase[\"churn\"] = last_purchase[\"order_purchase_timestamp\"] < cutoff_date\n",
    "    churn_ratio = last_purchase[\"churn\"].value_counts(normalize=True)\n",
    "    print(f\"\\nVentana: {days} días\")\n",
    "    print(churn_ratio)\n",
    "\n",
    "for days in [90, 180, 365]:\n",
    "    churn_rate(df, days)"
   ]
  },
  {
   "cell_type": "markdown",
   "id": "79d2df73",
   "metadata": {},
   "source": [
    "Con esto tenemos la variable Churn establecida. \n",
    "\n",
    "Estas proporciones nos indican que estamos ante un dataset desbalanceado, la mayoria de clientes abandonan el servicio.\n",
    "\n",
    "Esto es un comportamiento normal en servicios de e-commerce a diferencia de servicios tipo SaaS en los que se utilizan servicios de suscripcion y hay sistemas de fidelizacion. En estos servicios el Churn es muy inferior."
   ]
  },
  {
   "cell_type": "markdown",
   "id": "3cc5e1a9",
   "metadata": {},
   "source": [
    "## Valores nulos"
   ]
  },
  {
   "cell_type": "markdown",
   "id": "54a6cb2b",
   "metadata": {},
   "source": [
    "A parte de las que tenemos, hemos descubierto que tenemos datos nulos en las columnas:\n",
    "- *'order_approved_at'*: tenemos 14 datos nulos en esta columna, esto puede ser por ordenes canceladas, tendremos que tenerlo en cuenta y comprobarlo, comparando el *'order_status'* con estos valores nulos.\n",
    "- *'order_delivered_carrier_date'*: 991 datos nulos, esta columna nos indica la fecha de entrega a la empresa de transporte, el motivo de estos datos nulos, puede ser el mismo que el anterior, pedidos cancelados, tendremos que comprobarlo igualmente para saber como imputarlo.\n",
    "- *'order_delivered_customer_date'*: En este caso tenemos 2087, esta columna representa la fecha de entrega al cliente, este es un dato importante, teniendo en cuenta que el dato aumenta, puede significar, pedidos que no han llegado al cliente, puede ser un indicador de baja satisfaccion que influya en el Churn."
   ]
  },
  {
   "cell_type": "markdown",
   "id": "c87a1375",
   "metadata": {},
   "source": [
    "#### Valores nulos *'order_approved_at'*"
   ]
  },
  {
   "cell_type": "code",
   "execution_count": null,
   "id": "502545b6",
   "metadata": {},
   "outputs": [],
   "source": [
    "df[df['order_approved_at'].isnull()] "
   ]
  },
  {
   "cell_type": "markdown",
   "id": "69312c8d",
   "metadata": {},
   "source": [
    "Como son pocas columnas he podido hacer una inspeccion de todas ellas, parece ser que mi idea inicial es incorrecta, los productos han sido entregados aunque no aparezca la fecha de aprobacion. Por lo tanto esta columna no podra aportarmos mayor informacion y la descartare."
   ]
  },
  {
   "cell_type": "markdown",
   "id": "a73b3803",
   "metadata": {},
   "source": [
    "#### Valores nulos *'order_delivered_carrier_date'*"
   ]
  },
  {
   "cell_type": "code",
   "execution_count": null,
   "id": "a253c332",
   "metadata": {},
   "outputs": [],
   "source": [
    "df[df['order_delivered_carrier_date'].isna()].groupby('order_status').size()"
   ]
  },
  {
   "cell_type": "markdown",
   "id": "b35e3065",
   "metadata": {},
   "source": [
    "He filtrado los datos nulos de esta columna por su order status y los he agrupado, de esta manera puedo intentar obtener informacion de porque existen estos valores nulos.\n",
    "\n",
    "El resultado es que solo 2 de ellas fueron entregadas. Esto podria ser un indicador de bajo nivel de satisfaccion que podria afectar al Churn"
   ]
  },
  {
   "cell_type": "markdown",
   "id": "b3b77c5e",
   "metadata": {},
   "source": [
    "#### Valores nulos *'order_delivered_customer_date'*"
   ]
  },
  {
   "cell_type": "code",
   "execution_count": null,
   "id": "c4ef4b69",
   "metadata": {},
   "outputs": [],
   "source": [
    "df[df[\"order_delivered_customer_date\"].isna() & df[\"order_delivered_carrier_date\"].isna()] \\\n",
    "    .groupby(\"order_status\").size().sum()"
   ]
  },
  {
   "cell_type": "markdown",
   "id": "0c7c9b55",
   "metadata": {},
   "source": [
    "La columnas *'order_delivered_carrier_date'* tiene los datos missing que tiene la columna *'order_delivered_customer_date'*, por lo tanto podre descartar la primera, ya que me da informacion redundante."
   ]
  },
  {
   "cell_type": "markdown",
   "id": "2d2aeb9a",
   "metadata": {},
   "source": [
    "Una vez revisado todo esto, mi decision es descartar las dos primeras columnas y me quedarme solo con *'order_delivered_customer_date'*, los datos nulos los tomare como que el producto no ha sido entregado.\n",
    "\n",
    "La razon de esto es que estas columnas no me aportan informacion extra, la comparacion mas adelante la hare entre la fecha de entrega y la estimada, para saber si hubo algun retraso que pueda afectar a la satisfaccion del cliente"
   ]
  },
  {
   "cell_type": "code",
   "execution_count": null,
   "id": "adae5fb9",
   "metadata": {},
   "outputs": [],
   "source": [
    "df.drop(columns=['order_delivered_carrier_date', 'order_approved_at'], inplace=True)"
   ]
  },
  {
   "cell_type": "markdown",
   "id": "8bccd2f2",
   "metadata": {},
   "source": [
    "# "
   ]
  },
  {
   "cell_type": "markdown",
   "id": "1802a943",
   "metadata": {},
   "source": [
    "# Analisis Univariante"
   ]
  },
  {
   "cell_type": "markdown",
   "id": "2bf21d2a",
   "metadata": {},
   "source": [
    "### Variable Churn"
   ]
  },
  {
   "cell_type": "code",
   "execution_count": null,
   "id": "9ab6ec76",
   "metadata": {},
   "outputs": [],
   "source": [
    "churn_counts = df[\"churn\"].value_counts()\n",
    "label_map = {True: \"Churn\", False: \"No churn\"}\n",
    "labels = [label_map[val] for val in churn_counts.index]\n",
    "palette = [\"blue\", \"orange\"]\n",
    "\n",
    "fig, ax = plt.subplots(1, 2, figsize=(12, 5))\n",
    "\n",
    "sns.countplot(x=\"churn\", data=df, ax=ax[0], palette=palette, hue='churn', legend=False)\n",
    "ax[0].set_title(\"Distribución y conteo por clases de Churn\")\n",
    "ax[0].set_xlabel(\"Churn\")\n",
    "ax[0].set_ylabel(\"Número de clientes\")\n",
    "ax[0].set_xticks(range(len(labels_present)))\n",
    "ax[0].set_xticklabels(reversed(labels))\n",
    "\n",
    "ax[1].pie(churn_counts, labels=labels, autopct='%1.1f%%', startangle=90, explode=(0.05, 0), shadow={'ox': -0.02}, colors=reversed(palette))\n",
    "ax[1].set_title(\"Distribución de Churn\")\n",
    "ax[1].legend(labels, title=\"Clases\", loc=\"center right\", bbox_to_anchor=(0.1, 0.9))\n",
    "\n",
    "plt.show()"
   ]
  },
  {
   "cell_type": "markdown",
   "id": "fdc1cc53",
   "metadata": {},
   "source": [
    "Podemos observar en estos graficos, que mi clase mayoritaria es Churn con un 61% de clientes que abandonan el servicio. Como he comentado antes, en un negocio de e-commerce esta metrica es normal, porque son muchos los clientes que compran algun articulo en especifico y no vuelven a realizar compras.\n",
    "\n",
    "Tambien podemos observar que son unos 40.000 clientes habituales y unos 60.000 son los que lo han utilizado alguna vez pero no hemos conseguido retener en el servicio.\n",
    "\n",
    "En nuestro estudio, tener esto en cuenta indispensable para intentar mejorar nuestra estrategia y detectar los patrones de los clientes que usan el servicio habitualmente."
   ]
  },
  {
   "cell_type": "markdown",
   "id": "09d6db50",
   "metadata": {},
   "source": [
    "# TODO comentar sobre los 3 limites de fechas de Churn"
   ]
  }
 ],
 "metadata": {
  "kernelspec": {
   "display_name": "geeks",
   "language": "python",
   "name": "python3"
  },
  "language_info": {
   "codemirror_mode": {
    "name": "ipython",
    "version": 3
   },
   "file_extension": ".py",
   "mimetype": "text/x-python",
   "name": "python",
   "nbconvert_exporter": "python",
   "pygments_lexer": "ipython3",
   "version": "3.12.9"
  }
 },
 "nbformat": 4,
 "nbformat_minor": 5
}
