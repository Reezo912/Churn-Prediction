{
 "cells": [
  {
   "cell_type": "markdown",
   "metadata": {},
   "source": [
    "# Preprocesado de datasets"
   ]
  },
  {
   "cell_type": "markdown",
   "metadata": {},
   "source": [
    "En este proyecto, trabajamos con 6 datasets de información de e-commerce en Brasil, proporcionados por Olist."
   ]
  },
  {
   "cell_type": "code",
   "execution_count": 17,
   "metadata": {},
   "outputs": [],
   "source": [
    "from pathlib import Path\n",
    "\n",
    "import pandas as pd\n",
    "import numpy as np"
   ]
  },
  {
   "cell_type": "code",
   "execution_count": 2,
   "metadata": {},
   "outputs": [],
   "source": [
    "BASE_DIR = Path.cwd().parent\n",
    "DATA_DIR = (BASE_DIR / \"data\").resolve()"
   ]
  },
  {
   "cell_type": "code",
   "execution_count": 3,
   "metadata": {},
   "outputs": [],
   "source": [
    "customers = pd.read_csv(DATA_DIR/\"raw\"/\"olist_customers_dataset.csv\")\n",
    "df_customers = pd.DataFrame(customers)\n",
    "\n",
    "items = pd.read_csv(DATA_DIR/\"raw\"/\"olist_order_items_dataset.csv\")\n",
    "df_items = pd.DataFrame(items)\n",
    "\n",
    "payments = pd.read_csv(DATA_DIR/\"raw\"/\"olist_order_payments_dataset.csv\")\n",
    "df_payments = pd.DataFrame(payments)\n",
    "\n",
    "reviews = pd.read_csv(DATA_DIR/\"raw\"/\"olist_order_reviews_dataset.csv\")\n",
    "df_reviews = pd.DataFrame(reviews)\n",
    "\n",
    "orders = pd.read_csv(DATA_DIR/\"raw\"/\"olist_orders_dataset.csv\")\n",
    "df_orders = pd.DataFrame(orders)\n",
    "\n",
    "products = pd.read_csv(DATA_DIR/\"raw\"/\"olist_products_dataset.csv\")\n",
    "df_products = pd.DataFrame(products)"
   ]
  },
  {
   "cell_type": "code",
   "execution_count": 4,
   "metadata": {},
   "outputs": [
    {
     "name": "stdout",
     "output_type": "stream",
     "text": [
      "\n",
      "customer columns:\n",
      " Index(['customer_id', 'customer_unique_id', 'customer_zip_code_prefix',\n",
      "       'customer_city', 'customer_state'],\n",
      "      dtype='object')\n",
      "\n",
      "items columns:\n",
      " Index(['order_id', 'order_item_id', 'product_id', 'seller_id',\n",
      "       'shipping_limit_date', 'price', 'freight_value'],\n",
      "      dtype='object')\n",
      "\n",
      "payments columns:\n",
      " Index(['order_id', 'payment_sequential', 'payment_type',\n",
      "       'payment_installments', 'payment_value'],\n",
      "      dtype='object')\n",
      "\n",
      "reviews columns:\n",
      " Index(['review_id', 'order_id', 'review_score', 'review_comment_title',\n",
      "       'review_comment_message', 'review_creation_date',\n",
      "       'review_answer_timestamp'],\n",
      "      dtype='object')\n",
      "\n",
      "orders columns:\n",
      " Index(['order_id', 'customer_id', 'order_status', 'order_purchase_timestamp',\n",
      "       'order_approved_at', 'order_delivered_carrier_date',\n",
      "       'order_delivered_customer_date', 'order_estimated_delivery_date'],\n",
      "      dtype='object')\n",
      "\n",
      "products columns:\n",
      " Index(['product_id', 'product_category_name', 'product_name_lenght',\n",
      "       'product_description_lenght', 'product_photos_qty', 'product_weight_g',\n",
      "       'product_length_cm', 'product_height_cm', 'product_width_cm'],\n",
      "      dtype='object')\n"
     ]
    }
   ],
   "source": [
    "print(\"\\ncustomer columns:\\n\", df_customers.columns)\n",
    "print(\"\\nitems columns:\\n\", df_items.columns)\n",
    "print(\"\\npayments columns:\\n\", df_payments.columns)\n",
    "print(\"\\nreviews columns:\\n\", df_reviews.columns)\n",
    "print(\"\\norders columns:\\n\", df_orders.columns)\n",
    "print(\"\\nproducts columns:\\n\", df_products.columns)"
   ]
  },
  {
   "cell_type": "markdown",
   "metadata": {},
   "source": [
    "Podemos observar que no todos los DataFrames tienen las mismas columnas, por lo que tendremos que hacer varios merges entre ellas."
   ]
  },
  {
   "cell_type": "markdown",
   "metadata": {},
   "source": [
    "Primero comenzare por los que puedo unir a traves de la columna *\"order_id\"*"
   ]
  },
  {
   "cell_type": "code",
   "execution_count": 5,
   "metadata": {},
   "outputs": [
    {
     "name": "stdout",
     "output_type": "stream",
     "text": [
      "21\n",
      "29\n",
      "3\n",
      "1\n"
     ]
    }
   ],
   "source": [
    "print(df_items['order_id'].value_counts().max())\n",
    "print(df_payments['order_id'].value_counts().max())\n",
    "print(df_reviews['order_id'].value_counts().max())\n",
    "print(df_orders['order_id'].value_counts().max())"
   ]
  },
  {
   "cell_type": "markdown",
   "metadata": {},
   "source": [
    "Estas columnas tienen duplicados menos en el dataframe *df_orders*, por lo tanto habrá que tratar esto antes de realizar el join"
   ]
  },
  {
   "cell_type": "markdown",
   "metadata": {},
   "source": [
    "### Payments Dataset"
   ]
  },
  {
   "cell_type": "code",
   "execution_count": 6,
   "metadata": {},
   "outputs": [
    {
     "data": {
      "text/html": [
       "<div>\n",
       "<style scoped>\n",
       "    .dataframe tbody tr th:only-of-type {\n",
       "        vertical-align: middle;\n",
       "    }\n",
       "\n",
       "    .dataframe tbody tr th {\n",
       "        vertical-align: top;\n",
       "    }\n",
       "\n",
       "    .dataframe thead th {\n",
       "        text-align: right;\n",
       "    }\n",
       "</style>\n",
       "<table border=\"1\" class=\"dataframe\">\n",
       "  <thead>\n",
       "    <tr style=\"text-align: right;\">\n",
       "      <th></th>\n",
       "      <th>order_id</th>\n",
       "      <th>total_payment</th>\n",
       "      <th>payment_type</th>\n",
       "      <th>max_installments</th>\n",
       "    </tr>\n",
       "  </thead>\n",
       "  <tbody>\n",
       "    <tr>\n",
       "      <th>0</th>\n",
       "      <td>00010242fe8c5a6d1ba2dd792cb16214</td>\n",
       "      <td>72.19</td>\n",
       "      <td>credit_card</td>\n",
       "      <td>2</td>\n",
       "    </tr>\n",
       "    <tr>\n",
       "      <th>1</th>\n",
       "      <td>00018f77f2f0320c557190d7a144bdd3</td>\n",
       "      <td>259.83</td>\n",
       "      <td>credit_card</td>\n",
       "      <td>3</td>\n",
       "    </tr>\n",
       "    <tr>\n",
       "      <th>2</th>\n",
       "      <td>000229ec398224ef6ca0657da4fc703e</td>\n",
       "      <td>216.87</td>\n",
       "      <td>credit_card</td>\n",
       "      <td>5</td>\n",
       "    </tr>\n",
       "  </tbody>\n",
       "</table>\n",
       "</div>"
      ],
      "text/plain": [
       "                           order_id  total_payment payment_type  \\\n",
       "0  00010242fe8c5a6d1ba2dd792cb16214          72.19  credit_card   \n",
       "1  00018f77f2f0320c557190d7a144bdd3         259.83  credit_card   \n",
       "2  000229ec398224ef6ca0657da4fc703e         216.87  credit_card   \n",
       "\n",
       "   max_installments  \n",
       "0                 2  \n",
       "1                 3  \n",
       "2                 5  "
      ]
     },
     "execution_count": 6,
     "metadata": {},
     "output_type": "execute_result"
    }
   ],
   "source": [
    "# Con esto conseguimos evitar duplicados al hacer merge de datasets por tener order_id duplicados\n",
    "\n",
    "payments_total = df_payments.groupby(\"order_id\", as_index=False)[\"payment_value\"].sum()\n",
    "payments_total.rename(columns={\"payment_value\": \"total_payment\"}, inplace=True)\n",
    "\n",
    "payment_type_main = df_payments.groupby(\"order_id\")[\"payment_type\"].agg(lambda x: x.mode()[0]).reset_index()\n",
    "\n",
    "max_installments = df_payments.groupby(\"order_id\", as_index=False)[\"payment_installments\"].max()\n",
    "max_installments.rename(columns={\"payment_installments\": \"max_installments\"}, inplace=True)\n",
    "\n",
    "df_payments = payments_total.merge(payment_type_main, on=\"order_id\", how=\"left\")\n",
    "df_payments = df_payments.merge(max_installments, on=\"order_id\", how=\"left\")\n",
    "\n",
    "df_payments.head(3)"
   ]
  },
  {
   "cell_type": "markdown",
   "metadata": {},
   "source": [
    "Con esto, el dataset *\"payments\"* tiene order id individuales, de manera que no se harán combinaciones al hacer merge con las demas tablas por producto cartesiano."
   ]
  },
  {
   "cell_type": "markdown",
   "metadata": {},
   "source": [
    "### Items dataset"
   ]
  },
  {
   "cell_type": "code",
   "execution_count": 7,
   "metadata": {},
   "outputs": [
    {
     "data": {
      "text/html": [
       "<div>\n",
       "<style scoped>\n",
       "    .dataframe tbody tr th:only-of-type {\n",
       "        vertical-align: middle;\n",
       "    }\n",
       "\n",
       "    .dataframe tbody tr th {\n",
       "        vertical-align: top;\n",
       "    }\n",
       "\n",
       "    .dataframe thead th {\n",
       "        text-align: right;\n",
       "    }\n",
       "</style>\n",
       "<table border=\"1\" class=\"dataframe\">\n",
       "  <thead>\n",
       "    <tr style=\"text-align: right;\">\n",
       "      <th></th>\n",
       "      <th>order_id</th>\n",
       "      <th>order_item_id</th>\n",
       "      <th>product_id</th>\n",
       "      <th>seller_id</th>\n",
       "      <th>shipping_limit_date</th>\n",
       "      <th>price</th>\n",
       "      <th>freight_value</th>\n",
       "    </tr>\n",
       "  </thead>\n",
       "  <tbody>\n",
       "    <tr>\n",
       "      <th>0</th>\n",
       "      <td>00010242fe8c5a6d1ba2dd792cb16214</td>\n",
       "      <td>1</td>\n",
       "      <td>4244733e06e7ecb4970a6e2683c13e61</td>\n",
       "      <td>48436dade18ac8b2bce089ec2a041202</td>\n",
       "      <td>2017-09-19 09:45:35</td>\n",
       "      <td>58.9</td>\n",
       "      <td>13.29</td>\n",
       "    </tr>\n",
       "    <tr>\n",
       "      <th>1</th>\n",
       "      <td>00018f77f2f0320c557190d7a144bdd3</td>\n",
       "      <td>1</td>\n",
       "      <td>e5f2d52b802189ee658865ca93d83a8f</td>\n",
       "      <td>dd7ddc04e1b6c2c614352b383efe2d36</td>\n",
       "      <td>2017-05-03 11:05:13</td>\n",
       "      <td>239.9</td>\n",
       "      <td>19.93</td>\n",
       "    </tr>\n",
       "    <tr>\n",
       "      <th>2</th>\n",
       "      <td>000229ec398224ef6ca0657da4fc703e</td>\n",
       "      <td>1</td>\n",
       "      <td>c777355d18b72b67abbeef9df44fd0fd</td>\n",
       "      <td>5b51032eddd242adc84c38acab88f23d</td>\n",
       "      <td>2018-01-18 14:48:30</td>\n",
       "      <td>199.0</td>\n",
       "      <td>17.87</td>\n",
       "    </tr>\n",
       "  </tbody>\n",
       "</table>\n",
       "</div>"
      ],
      "text/plain": [
       "                           order_id  order_item_id  \\\n",
       "0  00010242fe8c5a6d1ba2dd792cb16214              1   \n",
       "1  00018f77f2f0320c557190d7a144bdd3              1   \n",
       "2  000229ec398224ef6ca0657da4fc703e              1   \n",
       "\n",
       "                         product_id                         seller_id  \\\n",
       "0  4244733e06e7ecb4970a6e2683c13e61  48436dade18ac8b2bce089ec2a041202   \n",
       "1  e5f2d52b802189ee658865ca93d83a8f  dd7ddc04e1b6c2c614352b383efe2d36   \n",
       "2  c777355d18b72b67abbeef9df44fd0fd  5b51032eddd242adc84c38acab88f23d   \n",
       "\n",
       "   shipping_limit_date  price  freight_value  \n",
       "0  2017-09-19 09:45:35   58.9          13.29  \n",
       "1  2017-05-03 11:05:13  239.9          19.93  \n",
       "2  2018-01-18 14:48:30  199.0          17.87  "
      ]
     },
     "execution_count": 7,
     "metadata": {},
     "output_type": "execute_result"
    }
   ],
   "source": [
    "df_items.head(3)"
   ]
  },
  {
   "cell_type": "markdown",
   "metadata": {},
   "source": [
    "Lo primero al observar este dataset es que hay columnas que descartar, por no aportar a nuestra hipotesis de predecir churn. Estas son:\n",
    "- \"seller_id\"\n",
    "- \"product_id\"\n",
    "- \"shipping_limit_date\"\n",
    "\n",
    "*\"shipping_limit_date\"* la eliminaremos dado que ya tenemos la fecha estimada de entrega y la fecha de entrega en el dataset\n",
    "\n",
    "Además crearemos una nueva columna, *\"item_count\"* mostrando el numero total de items por order"
   ]
  },
  {
   "cell_type": "code",
   "execution_count": 8,
   "metadata": {},
   "outputs": [
    {
     "data": {
      "text/html": [
       "<div>\n",
       "<style scoped>\n",
       "    .dataframe tbody tr th:only-of-type {\n",
       "        vertical-align: middle;\n",
       "    }\n",
       "\n",
       "    .dataframe tbody tr th {\n",
       "        vertical-align: top;\n",
       "    }\n",
       "\n",
       "    .dataframe thead th {\n",
       "        text-align: right;\n",
       "    }\n",
       "</style>\n",
       "<table border=\"1\" class=\"dataframe\">\n",
       "  <thead>\n",
       "    <tr style=\"text-align: right;\">\n",
       "      <th></th>\n",
       "      <th>order_id</th>\n",
       "      <th>total_price</th>\n",
       "      <th>item_count</th>\n",
       "      <th>total_freight_value</th>\n",
       "    </tr>\n",
       "  </thead>\n",
       "  <tbody>\n",
       "    <tr>\n",
       "      <th>0</th>\n",
       "      <td>00010242fe8c5a6d1ba2dd792cb16214</td>\n",
       "      <td>58.90</td>\n",
       "      <td>1</td>\n",
       "      <td>13.29</td>\n",
       "    </tr>\n",
       "    <tr>\n",
       "      <th>1</th>\n",
       "      <td>00018f77f2f0320c557190d7a144bdd3</td>\n",
       "      <td>239.90</td>\n",
       "      <td>1</td>\n",
       "      <td>19.93</td>\n",
       "    </tr>\n",
       "    <tr>\n",
       "      <th>2</th>\n",
       "      <td>000229ec398224ef6ca0657da4fc703e</td>\n",
       "      <td>199.00</td>\n",
       "      <td>1</td>\n",
       "      <td>17.87</td>\n",
       "    </tr>\n",
       "    <tr>\n",
       "      <th>3</th>\n",
       "      <td>00024acbcdf0a6daa1e931b038114c75</td>\n",
       "      <td>12.99</td>\n",
       "      <td>1</td>\n",
       "      <td>12.79</td>\n",
       "    </tr>\n",
       "    <tr>\n",
       "      <th>4</th>\n",
       "      <td>00042b26cf59d7ce69dfabb4e55b4fd9</td>\n",
       "      <td>199.90</td>\n",
       "      <td>1</td>\n",
       "      <td>18.14</td>\n",
       "    </tr>\n",
       "    <tr>\n",
       "      <th>...</th>\n",
       "      <td>...</td>\n",
       "      <td>...</td>\n",
       "      <td>...</td>\n",
       "      <td>...</td>\n",
       "    </tr>\n",
       "    <tr>\n",
       "      <th>98661</th>\n",
       "      <td>fffc94f6ce00a00581880bf54a75a037</td>\n",
       "      <td>299.99</td>\n",
       "      <td>1</td>\n",
       "      <td>43.41</td>\n",
       "    </tr>\n",
       "    <tr>\n",
       "      <th>98662</th>\n",
       "      <td>fffcd46ef2263f404302a634eb57f7eb</td>\n",
       "      <td>350.00</td>\n",
       "      <td>1</td>\n",
       "      <td>36.53</td>\n",
       "    </tr>\n",
       "    <tr>\n",
       "      <th>98663</th>\n",
       "      <td>fffce4705a9662cd70adb13d4a31832d</td>\n",
       "      <td>99.90</td>\n",
       "      <td>1</td>\n",
       "      <td>16.95</td>\n",
       "    </tr>\n",
       "    <tr>\n",
       "      <th>98664</th>\n",
       "      <td>fffe18544ffabc95dfada21779c9644f</td>\n",
       "      <td>55.99</td>\n",
       "      <td>1</td>\n",
       "      <td>8.72</td>\n",
       "    </tr>\n",
       "    <tr>\n",
       "      <th>98665</th>\n",
       "      <td>fffe41c64501cc87c801fd61db3f6244</td>\n",
       "      <td>43.00</td>\n",
       "      <td>1</td>\n",
       "      <td>12.79</td>\n",
       "    </tr>\n",
       "  </tbody>\n",
       "</table>\n",
       "<p>98666 rows × 4 columns</p>\n",
       "</div>"
      ],
      "text/plain": [
       "                               order_id  total_price  item_count  \\\n",
       "0      00010242fe8c5a6d1ba2dd792cb16214        58.90           1   \n",
       "1      00018f77f2f0320c557190d7a144bdd3       239.90           1   \n",
       "2      000229ec398224ef6ca0657da4fc703e       199.00           1   \n",
       "3      00024acbcdf0a6daa1e931b038114c75        12.99           1   \n",
       "4      00042b26cf59d7ce69dfabb4e55b4fd9       199.90           1   \n",
       "...                                 ...          ...         ...   \n",
       "98661  fffc94f6ce00a00581880bf54a75a037       299.99           1   \n",
       "98662  fffcd46ef2263f404302a634eb57f7eb       350.00           1   \n",
       "98663  fffce4705a9662cd70adb13d4a31832d        99.90           1   \n",
       "98664  fffe18544ffabc95dfada21779c9644f        55.99           1   \n",
       "98665  fffe41c64501cc87c801fd61db3f6244        43.00           1   \n",
       "\n",
       "       total_freight_value  \n",
       "0                    13.29  \n",
       "1                    19.93  \n",
       "2                    17.87  \n",
       "3                    12.79  \n",
       "4                    18.14  \n",
       "...                    ...  \n",
       "98661                43.41  \n",
       "98662                36.53  \n",
       "98663                16.95  \n",
       "98664                 8.72  \n",
       "98665                12.79  \n",
       "\n",
       "[98666 rows x 4 columns]"
      ]
     },
     "execution_count": 8,
     "metadata": {},
     "output_type": "execute_result"
    }
   ],
   "source": [
    "total_price = df_items.groupby(\"order_id\", as_index=False)[\"price\"].sum()\n",
    "total_price.rename(columns={\"price\": \"total_price\"}, inplace=True)\n",
    "\n",
    "total_items = df_items.groupby(\"order_id\").size().reset_index(name=\"item_count\")\n",
    "total_items\n",
    "\n",
    "freight_price = df_items.groupby(\"order_id\", as_index=False)[\"freight_value\"].sum()\n",
    "freight_price.rename(columns={\"freight_value\": \"total_freight_value\"}, inplace=True)\n",
    "\n",
    "df_items = total_price.merge(total_items, on=\"order_id\", how=\"left\")\n",
    "df_items = df_items.merge(freight_price, on=\"order_id\", how=\"left\")\n",
    "\n",
    "df_items"
   ]
  },
  {
   "cell_type": "markdown",
   "metadata": {},
   "source": [
    "Con esto he conseguido el total gastado por order, la cantidad de articulos y el total de coste por transporte, más adelante esto puede servirnos para hacer ingenieria de características"
   ]
  },
  {
   "cell_type": "markdown",
   "metadata": {},
   "source": [
    "### Reviews dataset"
   ]
  },
  {
   "cell_type": "markdown",
   "metadata": {},
   "source": [
    "Este es uno de los más importantes, ya que una mala review puede ser un indicativo de que alguien va a dejar el servicio. Lo primero que nos interesa es saber que tipos de datos tenemos por columna."
   ]
  },
  {
   "cell_type": "code",
   "execution_count": 9,
   "metadata": {},
   "outputs": [
    {
     "name": "stdout",
     "output_type": "stream",
     "text": [
      "<class 'pandas.core.frame.DataFrame'>\n",
      "RangeIndex: 99224 entries, 0 to 99223\n",
      "Data columns (total 7 columns):\n",
      " #   Column                   Non-Null Count  Dtype \n",
      "---  ------                   --------------  ----- \n",
      " 0   review_id                99224 non-null  object\n",
      " 1   order_id                 99224 non-null  object\n",
      " 2   review_score             99224 non-null  int64 \n",
      " 3   review_comment_title     11568 non-null  object\n",
      " 4   review_comment_message   40977 non-null  object\n",
      " 5   review_creation_date     99224 non-null  object\n",
      " 6   review_answer_timestamp  99224 non-null  object\n",
      "dtypes: int64(1), object(6)\n",
      "memory usage: 5.3+ MB\n"
     ]
    }
   ],
   "source": [
    "df_reviews.info()"
   ]
  },
  {
   "cell_type": "code",
   "execution_count": 10,
   "metadata": {},
   "outputs": [
    {
     "data": {
      "text/html": [
       "<div>\n",
       "<style scoped>\n",
       "    .dataframe tbody tr th:only-of-type {\n",
       "        vertical-align: middle;\n",
       "    }\n",
       "\n",
       "    .dataframe tbody tr th {\n",
       "        vertical-align: top;\n",
       "    }\n",
       "\n",
       "    .dataframe thead th {\n",
       "        text-align: right;\n",
       "    }\n",
       "</style>\n",
       "<table border=\"1\" class=\"dataframe\">\n",
       "  <thead>\n",
       "    <tr style=\"text-align: right;\">\n",
       "      <th></th>\n",
       "      <th>review_id</th>\n",
       "      <th>order_id</th>\n",
       "      <th>review_score</th>\n",
       "      <th>review_comment_title</th>\n",
       "      <th>review_comment_message</th>\n",
       "      <th>review_creation_date</th>\n",
       "      <th>review_answer_timestamp</th>\n",
       "    </tr>\n",
       "  </thead>\n",
       "  <tbody>\n",
       "    <tr>\n",
       "      <th>85978</th>\n",
       "      <td>0c39a257fd58b5df6440064ef5670ac7</td>\n",
       "      <td>599e2a8d1c0c82f50ac6d898c2efaa94</td>\n",
       "      <td>4</td>\n",
       "      <td>NaN</td>\n",
       "      <td>Muito ruim a entrega do correios... No site co...</td>\n",
       "      <td>2018-01-05 00:00:00</td>\n",
       "      <td>2018-01-05 19:45:49</td>\n",
       "    </tr>\n",
       "    <tr>\n",
       "      <th>48562</th>\n",
       "      <td>5c21268a0f8bae726edb3aa4db3e6bde</td>\n",
       "      <td>0036757472ece3dde52fd4bfd929c90e</td>\n",
       "      <td>2</td>\n",
       "      <td>Mesa com cavaletes</td>\n",
       "      <td>Demora absurda para entrega, dentro do prazo e...</td>\n",
       "      <td>2018-08-10 00:00:00</td>\n",
       "      <td>2018-08-14 02:57:36</td>\n",
       "    </tr>\n",
       "    <tr>\n",
       "      <th>66101</th>\n",
       "      <td>a53877b8ed65424a48dc80692b074cad</td>\n",
       "      <td>a74773544b428f3d89597084120ec144</td>\n",
       "      <td>4</td>\n",
       "      <td>NaN</td>\n",
       "      <td>NaN</td>\n",
       "      <td>2018-06-05 00:00:00</td>\n",
       "      <td>2018-06-07 19:33:46</td>\n",
       "    </tr>\n",
       "  </tbody>\n",
       "</table>\n",
       "</div>"
      ],
      "text/plain": [
       "                              review_id                          order_id  \\\n",
       "85978  0c39a257fd58b5df6440064ef5670ac7  599e2a8d1c0c82f50ac6d898c2efaa94   \n",
       "48562  5c21268a0f8bae726edb3aa4db3e6bde  0036757472ece3dde52fd4bfd929c90e   \n",
       "66101  a53877b8ed65424a48dc80692b074cad  a74773544b428f3d89597084120ec144   \n",
       "\n",
       "       review_score review_comment_title  \\\n",
       "85978             4                  NaN   \n",
       "48562             2  Mesa com cavaletes    \n",
       "66101             4                  NaN   \n",
       "\n",
       "                                  review_comment_message review_creation_date  \\\n",
       "85978  Muito ruim a entrega do correios... No site co...  2018-01-05 00:00:00   \n",
       "48562  Demora absurda para entrega, dentro do prazo e...  2018-08-10 00:00:00   \n",
       "66101                                                NaN  2018-06-05 00:00:00   \n",
       "\n",
       "      review_answer_timestamp  \n",
       "85978     2018-01-05 19:45:49  \n",
       "48562     2018-08-14 02:57:36  \n",
       "66101     2018-06-07 19:33:46  "
      ]
     },
     "execution_count": 10,
     "metadata": {},
     "output_type": "execute_result"
    }
   ],
   "source": [
    "df_reviews.sample(3)"
   ]
  },
  {
   "cell_type": "markdown",
   "metadata": {},
   "source": [
    "Con esto podemos ver que tenemos una columna con el score de la review, que nos va a dar mucha información, sumado a el comentario de esta misma review.\n",
    "\n",
    "Las fechas es algo que podremos descartar al final, ya que no nos proporciona información, junto con el review id.\n",
    "\n",
    "Algo a tener en cuenta en el EDA es la cantidad de valores nulos en el titulo de las reviews y en las propias reviews."
   ]
  },
  {
   "cell_type": "code",
   "execution_count": 11,
   "metadata": {},
   "outputs": [
    {
     "data": {
      "text/plain": [
       "np.int64(3)"
      ]
     },
     "execution_count": 11,
     "metadata": {},
     "output_type": "execute_result"
    }
   ],
   "source": [
    "# Comprobamos si hay orders duplicados\n",
    "df_reviews[\"order_id\"].value_counts().max()"
   ]
  },
  {
   "cell_type": "markdown",
   "metadata": {},
   "source": [
    "Hay orders duplicados, esto puede significar que una persona editó su review para cambiar su nota.\n",
    "\n",
    "Esto nos puede proporcionar información valiosa, podemos saber si la nota cambió, cuántas reviews totales puso un cliente por order y sacar una media de las notas.\n",
    "\n",
    "En cuanto al texto de la review, nos quedaremos con el más reciente, en caso de querer utilizarlo más adelante.\n",
    "\n",
    "Para comenzar, ordenaremos el dataset por orden cronológico, despues crearemos las columnas que nos pueden proporcionar más datos y despues haremos el merge"
   ]
  },
  {
   "cell_type": "code",
   "execution_count": 12,
   "metadata": {},
   "outputs": [
    {
     "data": {
      "text/html": [
       "<div>\n",
       "<style scoped>\n",
       "    .dataframe tbody tr th:only-of-type {\n",
       "        vertical-align: middle;\n",
       "    }\n",
       "\n",
       "    .dataframe tbody tr th {\n",
       "        vertical-align: top;\n",
       "    }\n",
       "\n",
       "    .dataframe thead th {\n",
       "        text-align: right;\n",
       "    }\n",
       "</style>\n",
       "<table border=\"1\" class=\"dataframe\">\n",
       "  <thead>\n",
       "    <tr style=\"text-align: right;\">\n",
       "      <th></th>\n",
       "      <th>total_reviews</th>\n",
       "      <th>worst_review</th>\n",
       "      <th>mean_review_score</th>\n",
       "      <th>last_review</th>\n",
       "    </tr>\n",
       "    <tr>\n",
       "      <th>order_id</th>\n",
       "      <th></th>\n",
       "      <th></th>\n",
       "      <th></th>\n",
       "      <th></th>\n",
       "    </tr>\n",
       "  </thead>\n",
       "  <tbody>\n",
       "    <tr>\n",
       "      <th>00010242fe8c5a6d1ba2dd792cb16214</th>\n",
       "      <td>1</td>\n",
       "      <td>5</td>\n",
       "      <td>5.0</td>\n",
       "      <td>5</td>\n",
       "    </tr>\n",
       "    <tr>\n",
       "      <th>00018f77f2f0320c557190d7a144bdd3</th>\n",
       "      <td>1</td>\n",
       "      <td>4</td>\n",
       "      <td>4.0</td>\n",
       "      <td>4</td>\n",
       "    </tr>\n",
       "    <tr>\n",
       "      <th>000229ec398224ef6ca0657da4fc703e</th>\n",
       "      <td>1</td>\n",
       "      <td>5</td>\n",
       "      <td>5.0</td>\n",
       "      <td>5</td>\n",
       "    </tr>\n",
       "    <tr>\n",
       "      <th>00024acbcdf0a6daa1e931b038114c75</th>\n",
       "      <td>1</td>\n",
       "      <td>4</td>\n",
       "      <td>4.0</td>\n",
       "      <td>4</td>\n",
       "    </tr>\n",
       "    <tr>\n",
       "      <th>00042b26cf59d7ce69dfabb4e55b4fd9</th>\n",
       "      <td>1</td>\n",
       "      <td>5</td>\n",
       "      <td>5.0</td>\n",
       "      <td>5</td>\n",
       "    </tr>\n",
       "    <tr>\n",
       "      <th>...</th>\n",
       "      <td>...</td>\n",
       "      <td>...</td>\n",
       "      <td>...</td>\n",
       "      <td>...</td>\n",
       "    </tr>\n",
       "    <tr>\n",
       "      <th>fffc94f6ce00a00581880bf54a75a037</th>\n",
       "      <td>1</td>\n",
       "      <td>5</td>\n",
       "      <td>5.0</td>\n",
       "      <td>5</td>\n",
       "    </tr>\n",
       "    <tr>\n",
       "      <th>fffcd46ef2263f404302a634eb57f7eb</th>\n",
       "      <td>1</td>\n",
       "      <td>5</td>\n",
       "      <td>5.0</td>\n",
       "      <td>5</td>\n",
       "    </tr>\n",
       "    <tr>\n",
       "      <th>fffce4705a9662cd70adb13d4a31832d</th>\n",
       "      <td>1</td>\n",
       "      <td>5</td>\n",
       "      <td>5.0</td>\n",
       "      <td>5</td>\n",
       "    </tr>\n",
       "    <tr>\n",
       "      <th>fffe18544ffabc95dfada21779c9644f</th>\n",
       "      <td>1</td>\n",
       "      <td>5</td>\n",
       "      <td>5.0</td>\n",
       "      <td>5</td>\n",
       "    </tr>\n",
       "    <tr>\n",
       "      <th>fffe41c64501cc87c801fd61db3f6244</th>\n",
       "      <td>1</td>\n",
       "      <td>5</td>\n",
       "      <td>5.0</td>\n",
       "      <td>5</td>\n",
       "    </tr>\n",
       "  </tbody>\n",
       "</table>\n",
       "<p>98673 rows × 4 columns</p>\n",
       "</div>"
      ],
      "text/plain": [
       "                                  total_reviews  worst_review  \\\n",
       "order_id                                                        \n",
       "00010242fe8c5a6d1ba2dd792cb16214              1             5   \n",
       "00018f77f2f0320c557190d7a144bdd3              1             4   \n",
       "000229ec398224ef6ca0657da4fc703e              1             5   \n",
       "00024acbcdf0a6daa1e931b038114c75              1             4   \n",
       "00042b26cf59d7ce69dfabb4e55b4fd9              1             5   \n",
       "...                                         ...           ...   \n",
       "fffc94f6ce00a00581880bf54a75a037              1             5   \n",
       "fffcd46ef2263f404302a634eb57f7eb              1             5   \n",
       "fffce4705a9662cd70adb13d4a31832d              1             5   \n",
       "fffe18544ffabc95dfada21779c9644f              1             5   \n",
       "fffe41c64501cc87c801fd61db3f6244              1             5   \n",
       "\n",
       "                                  mean_review_score  last_review  \n",
       "order_id                                                          \n",
       "00010242fe8c5a6d1ba2dd792cb16214                5.0            5  \n",
       "00018f77f2f0320c557190d7a144bdd3                4.0            4  \n",
       "000229ec398224ef6ca0657da4fc703e                5.0            5  \n",
       "00024acbcdf0a6daa1e931b038114c75                4.0            4  \n",
       "00042b26cf59d7ce69dfabb4e55b4fd9                5.0            5  \n",
       "...                                             ...          ...  \n",
       "fffc94f6ce00a00581880bf54a75a037                5.0            5  \n",
       "fffcd46ef2263f404302a634eb57f7eb                5.0            5  \n",
       "fffce4705a9662cd70adb13d4a31832d                5.0            5  \n",
       "fffe18544ffabc95dfada21779c9644f                5.0            5  \n",
       "fffe41c64501cc87c801fd61db3f6244                5.0            5  \n",
       "\n",
       "[98673 rows x 4 columns]"
      ]
     },
     "execution_count": 12,
     "metadata": {},
     "output_type": "execute_result"
    }
   ],
   "source": [
    "df_reviews[\"review_creation_date\"] = pd.to_datetime(df_reviews[\"review_creation_date\"])\n",
    "df_reviews.sort_values(\"review_creation_date\", inplace=True)\n",
    "\n",
    "# Dejo esto aquí porque es mi primera vez usando .agg() así no me pierdo.\n",
    "\n",
    "# df_total_rewiews = ( \n",
    "#     df_reviews\n",
    "#         .groupby(\"order_id\", as_index=False)[\"order_id\"]\n",
    "#         .count()\n",
    "#         .rename(columns={\"order_id\": \"total_reviews\"})\n",
    "# )\n",
    "\n",
    "# df_mean_reviews = (\n",
    "#     df_reviews\n",
    "#         .groupby(\"order_id\", as_index=False)[\"review_score\"].mean()\n",
    "#         .rename(columns={\"review_score\": \"mean_score\"})\n",
    "# )\n",
    "\n",
    "# df_worst_score = (\n",
    "#     df_reviews\n",
    "#     .groupby(\"order_id\", as_index=False)[\"review_score\"].min()\n",
    "#     .rename(columns={\"review_score\": \"min_score\"})\n",
    "# )\n",
    "\n",
    "# df_last_score = (\n",
    "#     df_reviews\n",
    "#       .drop_duplicates(subset=\"order_id\", keep=\"last\")   # la última tras el sort\n",
    "#       .loc[:, [\"order_id\", \"review_score\"]]\n",
    "#       .rename(columns={\"review_score\": \"last_score\"})\n",
    "# )\n",
    "\n",
    "# Optimización de codigo usando función .agg()\n",
    "agg_reviews = (df_reviews\n",
    "                .groupby(\"order_id\")\n",
    "                .agg(\n",
    "                    total_reviews = (\"order_id\", \"size\"),\n",
    "                    worst_review = (\"review_score\", \"min\"),\n",
    "                    mean_review_score = (\"review_score\", \"mean\"),\n",
    "                    last_review = (\"review_score\", \"last\")\n",
    "                )\n",
    "\n",
    ")\n",
    "\n",
    "agg_reviews"
   ]
  },
  {
   "cell_type": "code",
   "execution_count": 13,
   "metadata": {},
   "outputs": [
    {
     "data": {
      "text/html": [
       "<div>\n",
       "<style scoped>\n",
       "    .dataframe tbody tr th:only-of-type {\n",
       "        vertical-align: middle;\n",
       "    }\n",
       "\n",
       "    .dataframe tbody tr th {\n",
       "        vertical-align: top;\n",
       "    }\n",
       "\n",
       "    .dataframe thead th {\n",
       "        text-align: right;\n",
       "    }\n",
       "</style>\n",
       "<table border=\"1\" class=\"dataframe\">\n",
       "  <thead>\n",
       "    <tr style=\"text-align: right;\">\n",
       "      <th></th>\n",
       "      <th>order_id</th>\n",
       "      <th>review_score</th>\n",
       "      <th>review_comment_title</th>\n",
       "      <th>review_comment_message</th>\n",
       "    </tr>\n",
       "  </thead>\n",
       "  <tbody>\n",
       "    <tr>\n",
       "      <th>70906</th>\n",
       "      <td>809a282bbd5dbcabb6f2f724fca862ec</td>\n",
       "      <td>1</td>\n",
       "      <td>NaN</td>\n",
       "      <td>MEU PEDIDO NÃO FOI ENTREGUE E NÃO FOI DADA NEN...</td>\n",
       "    </tr>\n",
       "    <tr>\n",
       "      <th>37547</th>\n",
       "      <td>bfbd0f9bdef84302105ad712db648a6c</td>\n",
       "      <td>1</td>\n",
       "      <td>NaN</td>\n",
       "      <td>nao recebi o produto e nem resposta da empresa</td>\n",
       "    </tr>\n",
       "    <tr>\n",
       "      <th>5503</th>\n",
       "      <td>e5215415bb6f76fe3b7cb68103a0d1c0</td>\n",
       "      <td>1</td>\n",
       "      <td>NaN</td>\n",
       "      <td>PRODUTO NÃO CHEGOU,E JÁ PASSOU O PRAZO DE ENTREGA</td>\n",
       "    </tr>\n",
       "    <tr>\n",
       "      <th>60439</th>\n",
       "      <td>e2144124f98f3bf46939bc5183104041</td>\n",
       "      <td>4</td>\n",
       "      <td>NaN</td>\n",
       "      <td>NaN</td>\n",
       "    </tr>\n",
       "    <tr>\n",
       "      <th>41042</th>\n",
       "      <td>9aa3197e4887919fde0307fc23601d7a</td>\n",
       "      <td>4</td>\n",
       "      <td>NaN</td>\n",
       "      <td>Só chegou uma parte do pedido ate agora..</td>\n",
       "    </tr>\n",
       "  </tbody>\n",
       "</table>\n",
       "</div>"
      ],
      "text/plain": [
       "                               order_id  review_score review_comment_title  \\\n",
       "70906  809a282bbd5dbcabb6f2f724fca862ec             1                  NaN   \n",
       "37547  bfbd0f9bdef84302105ad712db648a6c             1                  NaN   \n",
       "5503   e5215415bb6f76fe3b7cb68103a0d1c0             1                  NaN   \n",
       "60439  e2144124f98f3bf46939bc5183104041             4                  NaN   \n",
       "41042  9aa3197e4887919fde0307fc23601d7a             4                  NaN   \n",
       "\n",
       "                                  review_comment_message  \n",
       "70906  MEU PEDIDO NÃO FOI ENTREGUE E NÃO FOI DADA NEN...  \n",
       "37547     nao recebi o produto e nem resposta da empresa  \n",
       "5503   PRODUTO NÃO CHEGOU,E JÁ PASSOU O PRAZO DE ENTREGA  \n",
       "60439                                                NaN  \n",
       "41042          Só chegou uma parte do pedido ate agora..  "
      ]
     },
     "execution_count": 13,
     "metadata": {},
     "output_type": "execute_result"
    }
   ],
   "source": [
    "df_reviews.drop(columns=[\"review_id\", \"review_creation_date\", \"review_answer_timestamp\"], inplace=True)\n",
    "df_reviews.head()"
   ]
  },
  {
   "cell_type": "markdown",
   "metadata": {},
   "source": [
    "### Order Dataset"
   ]
  },
  {
   "cell_type": "markdown",
   "metadata": {},
   "source": [
    "Por último, el dataset de orders, tiene valores individuales para cada order, por lo tanto no hace falta procesarlo"
   ]
  },
  {
   "cell_type": "code",
   "execution_count": 14,
   "metadata": {},
   "outputs": [
    {
     "data": {
      "text/plain": [
       "np.int64(1)"
      ]
     },
     "execution_count": 14,
     "metadata": {},
     "output_type": "execute_result"
    }
   ],
   "source": [
    "df_orders[\"order_id\"].value_counts().max()"
   ]
  },
  {
   "cell_type": "markdown",
   "metadata": {},
   "source": [
    "## Union de datasets order_id"
   ]
  },
  {
   "cell_type": "code",
   "execution_count": 15,
   "metadata": {},
   "outputs": [
    {
     "name": "stdout",
     "output_type": "stream",
     "text": [
      "(98666, 4)\n",
      "(99441, 8)\n",
      "(99440, 4)\n",
      "(99224, 4)\n"
     ]
    }
   ],
   "source": [
    "# Lo primero es comprobar si todos tienen las mismas dimensiones\n",
    "\n",
    "print(df_items.shape)\n",
    "print(df_orders.shape)\n",
    "print(df_payments.shape)\n",
    "print(df_reviews.shape)"
   ]
  },
  {
   "cell_type": "code",
   "execution_count": 16,
   "metadata": {},
   "outputs": [
    {
     "name": "stdout",
     "output_type": "stream",
     "text": [
      "items     filas = 98,666   pedidos únicos = 98,666   duplicados = 0\n",
      "payments  filas = 99,440   pedidos únicos = 99,440   duplicados = 0\n",
      "reviews   filas = 99,224   pedidos únicos = 98,673   duplicados = 551\n",
      "orders    filas = 99,441   pedidos únicos = 99,441   duplicados = 0\n"
     ]
    }
   ],
   "source": [
    "for nombre, df in [(\"items\", df_items),\n",
    "                   (\"payments\", df_payments),\n",
    "                   (\"reviews\", df_reviews),\n",
    "                   (\"orders\", df_orders)]:\n",
    "    dups = df.duplicated(\"order_id\").sum()  \n",
    "    print(f\"{nombre:<8}  filas = {len(df):>6,}   pedidos únicos = {df['order_id'].nunique():>6,}   duplicados = {dups}\")"
   ]
  }
 ],
 "metadata": {
  "kernelspec": {
   "display_name": "DS-IBM",
   "language": "python",
   "name": "python3"
  },
  "language_info": {
   "codemirror_mode": {
    "name": "ipython",
    "version": 3
   },
   "file_extension": ".py",
   "mimetype": "text/x-python",
   "name": "python",
   "nbconvert_exporter": "python",
   "pygments_lexer": "ipython3",
   "version": "3.13.5"
  }
 },
 "nbformat": 4,
 "nbformat_minor": 2
}
