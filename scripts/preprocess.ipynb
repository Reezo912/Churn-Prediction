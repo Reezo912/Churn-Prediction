{
 "cells": [
  {
   "cell_type": "markdown",
   "metadata": {},
   "source": [
    "# Preprocesado de datasets"
   ]
  },
  {
   "cell_type": "markdown",
   "metadata": {},
   "source": [
    "En este proyecto, trabajamos con 6 datasets de información de e-commerce en Brasil, proporcionados por Olist."
   ]
  },
  {
   "cell_type": "code",
   "execution_count": 52,
   "metadata": {},
   "outputs": [],
   "source": [
    "from pathlib import Path\n",
    "\n",
    "\n",
    "import pandas as pd\n",
    "import numpy as np"
   ]
  },
  {
   "cell_type": "code",
   "execution_count": 53,
   "metadata": {},
   "outputs": [],
   "source": [
    "BASE_DIR = Path.cwd().parent\n",
    "DATA_DIR = (BASE_DIR / \"data\").resolve()"
   ]
  },
  {
   "cell_type": "code",
   "execution_count": 54,
   "metadata": {},
   "outputs": [],
   "source": [
    "customers = pd.read_csv(DATA_DIR/\"raw\"/\"olist_customers_dataset.csv\")\n",
    "df_customers = pd.DataFrame(customers)\n",
    "\n",
    "items = pd.read_csv(DATA_DIR/\"raw\"/\"olist_order_items_dataset.csv\")\n",
    "df_items = pd.DataFrame(items)\n",
    "\n",
    "payments = pd.read_csv(DATA_DIR/\"raw\"/\"olist_order_payments_dataset.csv\")\n",
    "df_payments = pd.DataFrame(payments)\n",
    "\n",
    "reviews = pd.read_csv(DATA_DIR/\"raw\"/\"olist_order_reviews_dataset.csv\")\n",
    "df_reviews = pd.DataFrame(reviews)\n",
    "\n",
    "orders = pd.read_csv(DATA_DIR/\"raw\"/\"olist_orders_dataset.csv\")\n",
    "df_orders = pd.DataFrame(orders)\n",
    "\n",
    "products = pd.read_csv(DATA_DIR/\"raw\"/\"olist_products_dataset.csv\")\n",
    "df_products = pd.DataFrame(products)"
   ]
  },
  {
   "cell_type": "code",
   "execution_count": 55,
   "metadata": {},
   "outputs": [
    {
     "data": {
      "text/html": [
       "<div>\n",
       "<style scoped>\n",
       "    .dataframe tbody tr th:only-of-type {\n",
       "        vertical-align: middle;\n",
       "    }\n",
       "\n",
       "    .dataframe tbody tr th {\n",
       "        vertical-align: top;\n",
       "    }\n",
       "\n",
       "    .dataframe thead th {\n",
       "        text-align: right;\n",
       "    }\n",
       "</style>\n",
       "<table border=\"1\" class=\"dataframe\">\n",
       "  <thead>\n",
       "    <tr style=\"text-align: right;\">\n",
       "      <th></th>\n",
       "      <th>order_id</th>\n",
       "      <th>order_item_id</th>\n",
       "      <th>product_id</th>\n",
       "      <th>seller_id</th>\n",
       "      <th>shipping_limit_date</th>\n",
       "      <th>price</th>\n",
       "      <th>freight_value</th>\n",
       "    </tr>\n",
       "  </thead>\n",
       "  <tbody>\n",
       "    <tr>\n",
       "      <th>0</th>\n",
       "      <td>00010242fe8c5a6d1ba2dd792cb16214</td>\n",
       "      <td>1</td>\n",
       "      <td>4244733e06e7ecb4970a6e2683c13e61</td>\n",
       "      <td>48436dade18ac8b2bce089ec2a041202</td>\n",
       "      <td>2017-09-19 09:45:35</td>\n",
       "      <td>58.9</td>\n",
       "      <td>13.29</td>\n",
       "    </tr>\n",
       "    <tr>\n",
       "      <th>1</th>\n",
       "      <td>00018f77f2f0320c557190d7a144bdd3</td>\n",
       "      <td>1</td>\n",
       "      <td>e5f2d52b802189ee658865ca93d83a8f</td>\n",
       "      <td>dd7ddc04e1b6c2c614352b383efe2d36</td>\n",
       "      <td>2017-05-03 11:05:13</td>\n",
       "      <td>239.9</td>\n",
       "      <td>19.93</td>\n",
       "    </tr>\n",
       "    <tr>\n",
       "      <th>2</th>\n",
       "      <td>000229ec398224ef6ca0657da4fc703e</td>\n",
       "      <td>1</td>\n",
       "      <td>c777355d18b72b67abbeef9df44fd0fd</td>\n",
       "      <td>5b51032eddd242adc84c38acab88f23d</td>\n",
       "      <td>2018-01-18 14:48:30</td>\n",
       "      <td>199.0</td>\n",
       "      <td>17.87</td>\n",
       "    </tr>\n",
       "  </tbody>\n",
       "</table>\n",
       "</div>"
      ],
      "text/plain": [
       "                           order_id  order_item_id  \\\n",
       "0  00010242fe8c5a6d1ba2dd792cb16214              1   \n",
       "1  00018f77f2f0320c557190d7a144bdd3              1   \n",
       "2  000229ec398224ef6ca0657da4fc703e              1   \n",
       "\n",
       "                         product_id                         seller_id  \\\n",
       "0  4244733e06e7ecb4970a6e2683c13e61  48436dade18ac8b2bce089ec2a041202   \n",
       "1  e5f2d52b802189ee658865ca93d83a8f  dd7ddc04e1b6c2c614352b383efe2d36   \n",
       "2  c777355d18b72b67abbeef9df44fd0fd  5b51032eddd242adc84c38acab88f23d   \n",
       "\n",
       "   shipping_limit_date  price  freight_value  \n",
       "0  2017-09-19 09:45:35   58.9          13.29  \n",
       "1  2017-05-03 11:05:13  239.9          19.93  \n",
       "2  2018-01-18 14:48:30  199.0          17.87  "
      ]
     },
     "execution_count": 55,
     "metadata": {},
     "output_type": "execute_result"
    }
   ],
   "source": [
    "df_items.head(3)"
   ]
  },
  {
   "cell_type": "code",
   "execution_count": 56,
   "metadata": {},
   "outputs": [
    {
     "name": "stdout",
     "output_type": "stream",
     "text": [
      "\n",
      "customer columns:\n",
      " Index(['customer_id', 'customer_unique_id', 'customer_zip_code_prefix',\n",
      "       'customer_city', 'customer_state'],\n",
      "      dtype='object')\n",
      "\n",
      "items columns:\n",
      " Index(['order_id', 'order_item_id', 'product_id', 'seller_id',\n",
      "       'shipping_limit_date', 'price', 'freight_value'],\n",
      "      dtype='object')\n",
      "\n",
      "payments columns:\n",
      " Index(['order_id', 'payment_sequential', 'payment_type',\n",
      "       'payment_installments', 'payment_value'],\n",
      "      dtype='object')\n",
      "\n",
      "reviews columns:\n",
      " Index(['review_id', 'order_id', 'review_score', 'review_comment_title',\n",
      "       'review_comment_message', 'review_creation_date',\n",
      "       'review_answer_timestamp'],\n",
      "      dtype='object')\n",
      "\n",
      "orders columns:\n",
      " Index(['order_id', 'customer_id', 'order_status', 'order_purchase_timestamp',\n",
      "       'order_approved_at', 'order_delivered_carrier_date',\n",
      "       'order_delivered_customer_date', 'order_estimated_delivery_date'],\n",
      "      dtype='object')\n",
      "\n",
      "products columns:\n",
      " Index(['product_id', 'product_category_name', 'product_name_lenght',\n",
      "       'product_description_lenght', 'product_photos_qty', 'product_weight_g',\n",
      "       'product_length_cm', 'product_height_cm', 'product_width_cm'],\n",
      "      dtype='object')\n"
     ]
    }
   ],
   "source": [
    "print(\"\\ncustomer columns:\\n\", df_customers.columns)\n",
    "print(\"\\nitems columns:\\n\", df_items.columns)\n",
    "print(\"\\npayments columns:\\n\", df_payments.columns)\n",
    "print(\"\\nreviews columns:\\n\", df_reviews.columns)\n",
    "print(\"\\norders columns:\\n\", df_orders.columns)\n",
    "print(\"\\nproducts columns:\\n\", df_products.columns)"
   ]
  },
  {
   "cell_type": "markdown",
   "metadata": {},
   "source": [
    "Podemos observar que no todos los DataFrames tienen las mismas columnas, por lo que tendremos que hacer varios merges entre ellas."
   ]
  },
  {
   "cell_type": "markdown",
   "metadata": {},
   "source": [
    "Primero comenzare por los que puedo unir a traves de la columna *\"order_id\"*"
   ]
  },
  {
   "cell_type": "code",
   "execution_count": 57,
   "metadata": {},
   "outputs": [
    {
     "name": "stdout",
     "output_type": "stream",
     "text": [
      "order_id\n",
      "8272b63d03f5f79c56e9e4120aec44ef    21\n",
      "Name: count, dtype: int64\n",
      "order_id\n",
      "fa65dad1b0e818e3ccc5cb0e39231352    29\n",
      "Name: count, dtype: int64\n",
      "order_id\n",
      "c88b1d1b157a9999ce368f218a407141    3\n",
      "Name: count, dtype: int64\n",
      "order_id\n",
      "e481f51cbdc54678b7cc49136f2d6af7    1\n",
      "Name: count, dtype: int64\n"
     ]
    }
   ],
   "source": [
    "print(df_items['order_id'].value_counts().head(1))\n",
    "print(df_payments['order_id'].value_counts().head(1))\n",
    "print(df_reviews['order_id'].value_counts().head(1))\n",
    "print(df_orders['order_id'].value_counts().head(1))"
   ]
  },
  {
   "cell_type": "markdown",
   "metadata": {},
   "source": [
    "Estas columnas tienen duplicados menos en el dataframe *df_orders*, por lo tanto habrá que tratar esto antes de realizar el join"
   ]
  },
  {
   "cell_type": "markdown",
   "metadata": {},
   "source": [
    "### Payments Dataset"
   ]
  },
  {
   "cell_type": "code",
   "execution_count": 58,
   "metadata": {},
   "outputs": [
    {
     "data": {
      "text/html": [
       "<div>\n",
       "<style scoped>\n",
       "    .dataframe tbody tr th:only-of-type {\n",
       "        vertical-align: middle;\n",
       "    }\n",
       "\n",
       "    .dataframe tbody tr th {\n",
       "        vertical-align: top;\n",
       "    }\n",
       "\n",
       "    .dataframe thead th {\n",
       "        text-align: right;\n",
       "    }\n",
       "</style>\n",
       "<table border=\"1\" class=\"dataframe\">\n",
       "  <thead>\n",
       "    <tr style=\"text-align: right;\">\n",
       "      <th></th>\n",
       "      <th>order_id</th>\n",
       "      <th>total_payment</th>\n",
       "      <th>payment_type</th>\n",
       "      <th>max_installments</th>\n",
       "    </tr>\n",
       "  </thead>\n",
       "  <tbody>\n",
       "    <tr>\n",
       "      <th>0</th>\n",
       "      <td>00010242fe8c5a6d1ba2dd792cb16214</td>\n",
       "      <td>72.19</td>\n",
       "      <td>credit_card</td>\n",
       "      <td>2</td>\n",
       "    </tr>\n",
       "    <tr>\n",
       "      <th>1</th>\n",
       "      <td>00018f77f2f0320c557190d7a144bdd3</td>\n",
       "      <td>259.83</td>\n",
       "      <td>credit_card</td>\n",
       "      <td>3</td>\n",
       "    </tr>\n",
       "    <tr>\n",
       "      <th>2</th>\n",
       "      <td>000229ec398224ef6ca0657da4fc703e</td>\n",
       "      <td>216.87</td>\n",
       "      <td>credit_card</td>\n",
       "      <td>5</td>\n",
       "    </tr>\n",
       "  </tbody>\n",
       "</table>\n",
       "</div>"
      ],
      "text/plain": [
       "                           order_id  total_payment payment_type  \\\n",
       "0  00010242fe8c5a6d1ba2dd792cb16214          72.19  credit_card   \n",
       "1  00018f77f2f0320c557190d7a144bdd3         259.83  credit_card   \n",
       "2  000229ec398224ef6ca0657da4fc703e         216.87  credit_card   \n",
       "\n",
       "   max_installments  \n",
       "0                 2  \n",
       "1                 3  \n",
       "2                 5  "
      ]
     },
     "execution_count": 58,
     "metadata": {},
     "output_type": "execute_result"
    }
   ],
   "source": [
    "# Con esto conseguimos evitar duplicados al hacer merge de datasets por tener order_id duplicados\n",
    "\n",
    "payments_total = df_payments.groupby(\"order_id\", as_index=False)[\"payment_value\"].sum()\n",
    "payments_total.rename(columns={\"payment_value\": \"total_payment\"}, inplace=True)\n",
    "\n",
    "payment_type_main = df_payments.groupby(\"order_id\")[\"payment_type\"].agg(lambda x: x.mode()[0]).reset_index()\n",
    "\n",
    "max_installments = df_payments.groupby(\"order_id\", as_index=False)[\"payment_installments\"].max()\n",
    "max_installments.rename(columns={\"payment_installments\": \"max_installments\"}, inplace=True)\n",
    "\n",
    "df_payments = payments_total.merge(payment_type_main, on=\"order_id\", how=\"left\")\n",
    "df_payments = df_payments.merge(max_installments, on=\"order_id\", how=\"left\")\n",
    "\n",
    "df_payments.head(3)"
   ]
  }
 ],
 "metadata": {
  "kernelspec": {
   "display_name": "DS-IBM",
   "language": "python",
   "name": "python3"
  },
  "language_info": {
   "codemirror_mode": {
    "name": "ipython",
    "version": 3
   },
   "file_extension": ".py",
   "mimetype": "text/x-python",
   "name": "python",
   "nbconvert_exporter": "python",
   "pygments_lexer": "ipython3",
   "version": "3.13.5"
  }
 },
 "nbformat": 4,
 "nbformat_minor": 2
}
