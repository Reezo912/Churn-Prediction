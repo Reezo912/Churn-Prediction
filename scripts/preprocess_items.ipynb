{
 "cells": [
  {
   "cell_type": "markdown",
   "id": "d17013c0",
   "metadata": {},
   "source": [
    "# Preprocess Items Dataset"
   ]
  },
  {
   "cell_type": "markdown",
   "id": "aff36d3c",
   "metadata": {},
   "source": [
    "Este dataset contiene información sobre los productos comprados, como el precio y el coste de transporte, estos datos son importantes para saber la cantidad de dinero gastada por cliente."
   ]
  },
  {
   "cell_type": "code",
   "execution_count": 38,
   "id": "80193462",
   "metadata": {},
   "outputs": [],
   "source": [
    "from pathlib import Path\n",
    "\n",
    "import pandas as pd\n",
    "import numpy as np"
   ]
  },
  {
   "cell_type": "code",
   "execution_count": 39,
   "id": "43d1906a",
   "metadata": {},
   "outputs": [],
   "source": [
    "# Directorios donde se encuentran mis datos\n",
    "BASE_DIR = Path.cwd().parent\n",
    "DATA_DIR = (BASE_DIR / \"data\").resolve()"
   ]
  },
  {
   "cell_type": "code",
   "execution_count": 40,
   "id": "6bfa0a09",
   "metadata": {},
   "outputs": [],
   "source": [
    "items = pd.read_csv(DATA_DIR/\"raw\"/\"olist_order_items_dataset.csv\")\n",
    "df_items = pd.DataFrame(items)"
   ]
  },
  {
   "cell_type": "code",
   "execution_count": 41,
   "id": "f5348773",
   "metadata": {},
   "outputs": [
    {
     "name": "stdout",
     "output_type": "stream",
     "text": [
      "\n",
      "items columns:\n",
      " Index(['order_id', 'order_item_id', 'product_id', 'seller_id',\n",
      "       'shipping_limit_date', 'price', 'freight_value'],\n",
      "      dtype='object')\n"
     ]
    }
   ],
   "source": [
    "print(\"\\nitems columns:\\n\", df_items.columns)"
   ]
  },
  {
   "cell_type": "code",
   "execution_count": 42,
   "id": "466733ce",
   "metadata": {},
   "outputs": [
    {
     "name": "stdout",
     "output_type": "stream",
     "text": [
      "21\n"
     ]
    }
   ],
   "source": [
    "print(df_items['order_id'].value_counts().max())"
   ]
  },
  {
   "cell_type": "markdown",
   "id": "b59ece6b",
   "metadata": {},
   "source": [
    "Se puede observar que tenemos hasta 21 order_id repetidos"
   ]
  },
  {
   "cell_type": "code",
   "execution_count": 43,
   "id": "f8ce0d50",
   "metadata": {},
   "outputs": [
    {
     "data": {
      "text/html": [
       "<div>\n",
       "<style scoped>\n",
       "    .dataframe tbody tr th:only-of-type {\n",
       "        vertical-align: middle;\n",
       "    }\n",
       "\n",
       "    .dataframe tbody tr th {\n",
       "        vertical-align: top;\n",
       "    }\n",
       "\n",
       "    .dataframe thead th {\n",
       "        text-align: right;\n",
       "    }\n",
       "</style>\n",
       "<table border=\"1\" class=\"dataframe\">\n",
       "  <thead>\n",
       "    <tr style=\"text-align: right;\">\n",
       "      <th></th>\n",
       "      <th>order_id</th>\n",
       "      <th>order_item_id</th>\n",
       "      <th>product_id</th>\n",
       "      <th>seller_id</th>\n",
       "      <th>shipping_limit_date</th>\n",
       "      <th>price</th>\n",
       "      <th>freight_value</th>\n",
       "    </tr>\n",
       "  </thead>\n",
       "  <tbody>\n",
       "    <tr>\n",
       "      <th>0</th>\n",
       "      <td>00010242fe8c5a6d1ba2dd792cb16214</td>\n",
       "      <td>1</td>\n",
       "      <td>4244733e06e7ecb4970a6e2683c13e61</td>\n",
       "      <td>48436dade18ac8b2bce089ec2a041202</td>\n",
       "      <td>2017-09-19 09:45:35</td>\n",
       "      <td>58.9</td>\n",
       "      <td>13.29</td>\n",
       "    </tr>\n",
       "    <tr>\n",
       "      <th>1</th>\n",
       "      <td>00018f77f2f0320c557190d7a144bdd3</td>\n",
       "      <td>1</td>\n",
       "      <td>e5f2d52b802189ee658865ca93d83a8f</td>\n",
       "      <td>dd7ddc04e1b6c2c614352b383efe2d36</td>\n",
       "      <td>2017-05-03 11:05:13</td>\n",
       "      <td>239.9</td>\n",
       "      <td>19.93</td>\n",
       "    </tr>\n",
       "    <tr>\n",
       "      <th>2</th>\n",
       "      <td>000229ec398224ef6ca0657da4fc703e</td>\n",
       "      <td>1</td>\n",
       "      <td>c777355d18b72b67abbeef9df44fd0fd</td>\n",
       "      <td>5b51032eddd242adc84c38acab88f23d</td>\n",
       "      <td>2018-01-18 14:48:30</td>\n",
       "      <td>199.0</td>\n",
       "      <td>17.87</td>\n",
       "    </tr>\n",
       "  </tbody>\n",
       "</table>\n",
       "</div>"
      ],
      "text/plain": [
       "                           order_id  order_item_id  \\\n",
       "0  00010242fe8c5a6d1ba2dd792cb16214              1   \n",
       "1  00018f77f2f0320c557190d7a144bdd3              1   \n",
       "2  000229ec398224ef6ca0657da4fc703e              1   \n",
       "\n",
       "                         product_id                         seller_id  \\\n",
       "0  4244733e06e7ecb4970a6e2683c13e61  48436dade18ac8b2bce089ec2a041202   \n",
       "1  e5f2d52b802189ee658865ca93d83a8f  dd7ddc04e1b6c2c614352b383efe2d36   \n",
       "2  c777355d18b72b67abbeef9df44fd0fd  5b51032eddd242adc84c38acab88f23d   \n",
       "\n",
       "   shipping_limit_date  price  freight_value  \n",
       "0  2017-09-19 09:45:35   58.9          13.29  \n",
       "1  2017-05-03 11:05:13  239.9          19.93  \n",
       "2  2018-01-18 14:48:30  199.0          17.87  "
      ]
     },
     "execution_count": 43,
     "metadata": {},
     "output_type": "execute_result"
    }
   ],
   "source": [
    "df_items.head(3)"
   ]
  },
  {
   "cell_type": "markdown",
   "id": "8b451006",
   "metadata": {},
   "source": [
    "Lo primero al observar este dataset es que hay columnas que descartar, por no aportar a nuestra hipotesis de predecir churn. Estas son:\n",
    "- \"seller_id\"\n",
    "- \"product_id\"\n",
    "- \"shipping_limit_date\"\n",
    "\n",
    "*\"shipping_limit_date\"* la eliminaremos dado que ya tenemos la fecha estimada de entrega y la fecha de entrega en el dataset\n",
    "\n",
    "Además crearemos una nueva columna, *\"item_count\"* mostrando el numero total de items por order"
   ]
  },
  {
   "cell_type": "code",
   "execution_count": 44,
   "id": "2b8f65d6",
   "metadata": {},
   "outputs": [
    {
     "data": {
      "text/html": [
       "<div>\n",
       "<style scoped>\n",
       "    .dataframe tbody tr th:only-of-type {\n",
       "        vertical-align: middle;\n",
       "    }\n",
       "\n",
       "    .dataframe tbody tr th {\n",
       "        vertical-align: top;\n",
       "    }\n",
       "\n",
       "    .dataframe thead th {\n",
       "        text-align: right;\n",
       "    }\n",
       "</style>\n",
       "<table border=\"1\" class=\"dataframe\">\n",
       "  <thead>\n",
       "    <tr style=\"text-align: right;\">\n",
       "      <th></th>\n",
       "      <th>order_id</th>\n",
       "      <th>total_price</th>\n",
       "      <th>item_count</th>\n",
       "      <th>total_freight_value</th>\n",
       "    </tr>\n",
       "  </thead>\n",
       "  <tbody>\n",
       "    <tr>\n",
       "      <th>50345</th>\n",
       "      <td>82f29ec26f706651b906acc60ba4ab72</td>\n",
       "      <td>99.00</td>\n",
       "      <td>1</td>\n",
       "      <td>20.18</td>\n",
       "    </tr>\n",
       "    <tr>\n",
       "      <th>29075</th>\n",
       "      <td>4b594c50ed0279e3677e9580c4cfcfdb</td>\n",
       "      <td>59.90</td>\n",
       "      <td>1</td>\n",
       "      <td>17.67</td>\n",
       "    </tr>\n",
       "    <tr>\n",
       "      <th>53466</th>\n",
       "      <td>8b3bd30a8fe107026953fde99e95e351</td>\n",
       "      <td>493.24</td>\n",
       "      <td>2</td>\n",
       "      <td>56.54</td>\n",
       "    </tr>\n",
       "    <tr>\n",
       "      <th>35836</th>\n",
       "      <td>5d4b280ade17fbd39c551ed69edf8432</td>\n",
       "      <td>72.99</td>\n",
       "      <td>1</td>\n",
       "      <td>16.48</td>\n",
       "    </tr>\n",
       "    <tr>\n",
       "      <th>51659</th>\n",
       "      <td>86839e5d9c4709953ed4c3fa5aa71c54</td>\n",
       "      <td>674.90</td>\n",
       "      <td>1</td>\n",
       "      <td>20.69</td>\n",
       "    </tr>\n",
       "  </tbody>\n",
       "</table>\n",
       "</div>"
      ],
      "text/plain": [
       "                               order_id  total_price  item_count  \\\n",
       "50345  82f29ec26f706651b906acc60ba4ab72        99.00           1   \n",
       "29075  4b594c50ed0279e3677e9580c4cfcfdb        59.90           1   \n",
       "53466  8b3bd30a8fe107026953fde99e95e351       493.24           2   \n",
       "35836  5d4b280ade17fbd39c551ed69edf8432        72.99           1   \n",
       "51659  86839e5d9c4709953ed4c3fa5aa71c54       674.90           1   \n",
       "\n",
       "       total_freight_value  \n",
       "50345                20.18  \n",
       "29075                17.67  \n",
       "53466                56.54  \n",
       "35836                16.48  \n",
       "51659                20.69  "
      ]
     },
     "execution_count": 44,
     "metadata": {},
     "output_type": "execute_result"
    }
   ],
   "source": [
    "total_price = df_items.groupby(\"order_id\", as_index=False)[\"price\"].sum()\n",
    "total_price.rename(columns={\"price\": \"total_price\"}, inplace=True)\n",
    "\n",
    "total_items = df_items.groupby(\"order_id\").size().reset_index(name=\"item_count\")\n",
    "total_items\n",
    "\n",
    "freight_price = df_items.groupby(\"order_id\", as_index=False)[\"freight_value\"].sum()\n",
    "freight_price.rename(columns={\"freight_value\": \"total_freight_value\"}, inplace=True)\n",
    "\n",
    "df_items = total_price.merge(total_items, on=\"order_id\", how=\"left\")\n",
    "df_items = df_items.merge(freight_price, on=\"order_id\", how=\"left\")\n",
    "\n",
    "df_items.sample(5)"
   ]
  },
  {
   "cell_type": "markdown",
   "id": "884d7fa1",
   "metadata": {},
   "source": [
    "Con esto he conseguido el total gastado por order, la cantidad de articulos y el total de coste por transporte, más adelante esto puede servirnos para hacer ingenieria de características"
   ]
  },
  {
   "cell_type": "code",
   "execution_count": 45,
   "id": "7cbd94b5",
   "metadata": {},
   "outputs": [],
   "source": [
    "df_items.to_csv(DATA_DIR/\"processed\"/\"processed_items.csv\", index=False)"
   ]
  }
 ],
 "metadata": {
  "kernelspec": {
   "display_name": "DS-IBM",
   "language": "python",
   "name": "python3"
  },
  "language_info": {
   "codemirror_mode": {
    "name": "ipython",
    "version": 3
   },
   "file_extension": ".py",
   "mimetype": "text/x-python",
   "name": "python",
   "nbconvert_exporter": "python",
   "pygments_lexer": "ipython3",
   "version": "3.13.5"
  }
 },
 "nbformat": 4,
 "nbformat_minor": 5
}
