{
 "cells": [
  {
   "cell_type": "markdown",
   "id": "8f5cd103",
   "metadata": {},
   "source": [
    "# Preprocess Payments Dataset"
   ]
  },
  {
   "cell_type": "markdown",
   "id": "b5f815be",
   "metadata": {},
   "source": [
    "En este notebook, procesaremos el dataset de payments, este dataset incluye información importante sobre el coste de cada pedido y el tipo de pago.\n",
    "Hay que comprobar si tenemos duplicados en el dataset y realizar la limpieza de los mismos."
   ]
  },
  {
   "cell_type": "code",
   "execution_count": 1,
   "id": "f4a920ea",
   "metadata": {},
   "outputs": [],
   "source": [
    "from pathlib import Path\n",
    "\n",
    "import pandas as pd\n",
    "import numpy as np"
   ]
  },
  {
   "cell_type": "code",
   "execution_count": 2,
   "id": "a377213f",
   "metadata": {},
   "outputs": [],
   "source": [
    "BASE_DIR = Path.cwd().parent\n",
    "DATA_DIR = (BASE_DIR / \"data\").resolve()"
   ]
  },
  {
   "cell_type": "code",
   "execution_count": 3,
   "id": "54b67622",
   "metadata": {},
   "outputs": [],
   "source": [
    "payments = pd.read_csv(DATA_DIR/\"raw\"/\"olist_order_payments_dataset.csv\")\n",
    "df_payments = pd.DataFrame(payments)"
   ]
  },
  {
   "cell_type": "code",
   "execution_count": 4,
   "id": "9ecdaea3",
   "metadata": {},
   "outputs": [
    {
     "name": "stdout",
     "output_type": "stream",
     "text": [
      "\n",
      "payments columns:\n",
      " Index(['order_id', 'payment_sequential', 'payment_type',\n",
      "       'payment_installments', 'payment_value'],\n",
      "      dtype='object')\n"
     ]
    }
   ],
   "source": [
    "print(\"\\npayments columns:\\n\", df_payments.columns)"
   ]
  },
  {
   "cell_type": "code",
   "execution_count": 5,
   "id": "9a281124",
   "metadata": {},
   "outputs": [
    {
     "name": "stdout",
     "output_type": "stream",
     "text": [
      "29\n"
     ]
    }
   ],
   "source": [
    "print(df_payments['order_id'].value_counts().max())"
   ]
  },
  {
   "cell_type": "code",
   "execution_count": 6,
   "id": "1555f01c",
   "metadata": {},
   "outputs": [
    {
     "data": {
      "text/html": [
       "<div>\n",
       "<style scoped>\n",
       "    .dataframe tbody tr th:only-of-type {\n",
       "        vertical-align: middle;\n",
       "    }\n",
       "\n",
       "    .dataframe tbody tr th {\n",
       "        vertical-align: top;\n",
       "    }\n",
       "\n",
       "    .dataframe thead th {\n",
       "        text-align: right;\n",
       "    }\n",
       "</style>\n",
       "<table border=\"1\" class=\"dataframe\">\n",
       "  <thead>\n",
       "    <tr style=\"text-align: right;\">\n",
       "      <th></th>\n",
       "      <th>order_id</th>\n",
       "      <th>payment_sequential</th>\n",
       "      <th>payment_type</th>\n",
       "      <th>payment_installments</th>\n",
       "      <th>payment_value</th>\n",
       "    </tr>\n",
       "  </thead>\n",
       "  <tbody>\n",
       "    <tr>\n",
       "      <th>21767</th>\n",
       "      <td>b8f95bd45718008c382f10f416a3581d</td>\n",
       "      <td>1</td>\n",
       "      <td>credit_card</td>\n",
       "      <td>5</td>\n",
       "      <td>333.36</td>\n",
       "    </tr>\n",
       "    <tr>\n",
       "      <th>20005</th>\n",
       "      <td>4f209a7c48b44a32ff3196ddbfb4d67e</td>\n",
       "      <td>1</td>\n",
       "      <td>credit_card</td>\n",
       "      <td>3</td>\n",
       "      <td>156.94</td>\n",
       "    </tr>\n",
       "    <tr>\n",
       "      <th>48125</th>\n",
       "      <td>efac22dd2be7399535968466224f162d</td>\n",
       "      <td>1</td>\n",
       "      <td>credit_card</td>\n",
       "      <td>8</td>\n",
       "      <td>241.47</td>\n",
       "    </tr>\n",
       "  </tbody>\n",
       "</table>\n",
       "</div>"
      ],
      "text/plain": [
       "                               order_id  payment_sequential payment_type  \\\n",
       "21767  b8f95bd45718008c382f10f416a3581d                   1  credit_card   \n",
       "20005  4f209a7c48b44a32ff3196ddbfb4d67e                   1  credit_card   \n",
       "48125  efac22dd2be7399535968466224f162d                   1  credit_card   \n",
       "\n",
       "       payment_installments  payment_value  \n",
       "21767                     5         333.36  \n",
       "20005                     3         156.94  \n",
       "48125                     8         241.47  "
      ]
     },
     "execution_count": 6,
     "metadata": {},
     "output_type": "execute_result"
    }
   ],
   "source": [
    "df_payments.sample(3)"
   ]
  },
  {
   "cell_type": "markdown",
   "id": "6b93a3a3",
   "metadata": {},
   "source": [
    "Podemos observar que tenemos hasta 29 duplicados en algunos de los pedidos.\n",
    "\n",
    "Lo primero que tenemos que hacer es eliminar estos duplicados"
   ]
  },
  {
   "cell_type": "code",
   "execution_count": 7,
   "id": "12e34ca5",
   "metadata": {},
   "outputs": [
    {
     "data": {
      "text/html": [
       "<div>\n",
       "<style scoped>\n",
       "    .dataframe tbody tr th:only-of-type {\n",
       "        vertical-align: middle;\n",
       "    }\n",
       "\n",
       "    .dataframe tbody tr th {\n",
       "        vertical-align: top;\n",
       "    }\n",
       "\n",
       "    .dataframe thead th {\n",
       "        text-align: right;\n",
       "    }\n",
       "</style>\n",
       "<table border=\"1\" class=\"dataframe\">\n",
       "  <thead>\n",
       "    <tr style=\"text-align: right;\">\n",
       "      <th></th>\n",
       "      <th>order_id</th>\n",
       "      <th>total_payment</th>\n",
       "      <th>payment_type</th>\n",
       "      <th>max_installments</th>\n",
       "    </tr>\n",
       "  </thead>\n",
       "  <tbody>\n",
       "    <tr>\n",
       "      <th>0</th>\n",
       "      <td>00010242fe8c5a6d1ba2dd792cb16214</td>\n",
       "      <td>72.19</td>\n",
       "      <td>credit_card</td>\n",
       "      <td>2</td>\n",
       "    </tr>\n",
       "    <tr>\n",
       "      <th>1</th>\n",
       "      <td>00018f77f2f0320c557190d7a144bdd3</td>\n",
       "      <td>259.83</td>\n",
       "      <td>credit_card</td>\n",
       "      <td>3</td>\n",
       "    </tr>\n",
       "    <tr>\n",
       "      <th>2</th>\n",
       "      <td>000229ec398224ef6ca0657da4fc703e</td>\n",
       "      <td>216.87</td>\n",
       "      <td>credit_card</td>\n",
       "      <td>5</td>\n",
       "    </tr>\n",
       "  </tbody>\n",
       "</table>\n",
       "</div>"
      ],
      "text/plain": [
       "                           order_id  total_payment payment_type  \\\n",
       "0  00010242fe8c5a6d1ba2dd792cb16214          72.19  credit_card   \n",
       "1  00018f77f2f0320c557190d7a144bdd3         259.83  credit_card   \n",
       "2  000229ec398224ef6ca0657da4fc703e         216.87  credit_card   \n",
       "\n",
       "   max_installments  \n",
       "0                 2  \n",
       "1                 3  \n",
       "2                 5  "
      ]
     },
     "execution_count": 7,
     "metadata": {},
     "output_type": "execute_result"
    }
   ],
   "source": [
    "payments_total = df_payments.groupby(\"order_id\", as_index=False)[\"payment_value\"].sum()\n",
    "payments_total.rename(columns={\"payment_value\": \"total_payment\"}, inplace=True)\n",
    "\n",
    "payment_type_main = df_payments.groupby(\"order_id\")[\"payment_type\"].agg(lambda x: x.mode()[0]).reset_index()\n",
    "\n",
    "max_installments = df_payments.groupby(\"order_id\", as_index=False)[\"payment_installments\"].max()\n",
    "max_installments.rename(columns={\"payment_installments\": \"max_installments\"}, inplace=True)\n",
    "\n",
    "df_payments = payments_total.merge(payment_type_main, on=\"order_id\", how=\"left\")\n",
    "df_payments = df_payments.merge(max_installments, on=\"order_id\", how=\"left\")\n",
    "\n",
    "df_payments.head(3) "
   ]
  },
  {
   "cell_type": "markdown",
   "id": "b93c1aa8",
   "metadata": {},
   "source": [
    "Para eliminar los duplicados en order_id y evitar combinaciones indeseadas (producto cartesiano) al hacer el merge con otras tablas, he realizado la siguiente ingeniería de características:\n",
    "- *\"total_payment\"*: Suma de todos los valores de payment_value por pedido, representando el importe total pagado en ese pedido.\n",
    "- *\"payment_type\"*: Selección del método de pago más frecuente (moda) dentro de cada pedido.\n",
    "- *\"payment_installments\"*: Selección del mayor número de cuotas (payment_installments) registrado para ese pedido.\n",
    "\n",
    "Con estos agregados, el dataset resultante contiene un solo registro por order_id, evitando duplicados y asegurando un merge limpio y sin producto cartesiano con el resto de tablas."
   ]
  },
  {
   "cell_type": "code",
   "execution_count": 8,
   "id": "47276093",
   "metadata": {},
   "outputs": [],
   "source": [
    "df_payments.to_csv(DATA_DIR/\"processed\"/\"processed_payments.csv\", index=False)"
   ]
  }
 ],
 "metadata": {
  "kernelspec": {
   "display_name": "geeks",
   "language": "python",
   "name": "python3"
  },
  "language_info": {
   "codemirror_mode": {
    "name": "ipython",
    "version": 3
   },
   "file_extension": ".py",
   "mimetype": "text/x-python",
   "name": "python",
   "nbconvert_exporter": "python",
   "pygments_lexer": "ipython3",
   "version": "3.12.9"
  }
 },
 "nbformat": 4,
 "nbformat_minor": 5
}
