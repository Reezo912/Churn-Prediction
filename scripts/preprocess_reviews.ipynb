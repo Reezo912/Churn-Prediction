{
 "cells": [
  {
   "cell_type": "markdown",
   "id": "571e1556",
   "metadata": {},
   "source": [
    "# Preprocess Review Dataset"
   ]
  },
  {
   "cell_type": "markdown",
   "id": "458d535c",
   "metadata": {},
   "source": [
    "Este dataset es uno de los más importantes, ya que una mala review puede ser un indicativo de que alguien va a dejar el servicio."
   ]
  },
  {
   "cell_type": "code",
   "execution_count": 68,
   "id": "0baec5dc",
   "metadata": {},
   "outputs": [],
   "source": [
    "from pathlib import Path\n",
    "\n",
    "import pandas as pd\n",
    "import numpy as np"
   ]
  },
  {
   "cell_type": "code",
   "execution_count": 69,
   "id": "4b031e95",
   "metadata": {},
   "outputs": [],
   "source": [
    "# Directorios donde se encuentran mis datos\n",
    "BASE_DIR = Path.cwd().parent\n",
    "DATA_DIR = (BASE_DIR / \"data\").resolve()"
   ]
  },
  {
   "cell_type": "code",
   "execution_count": 70,
   "id": "2bddb939",
   "metadata": {},
   "outputs": [],
   "source": [
    "reviews = pd.read_csv(DATA_DIR/\"raw\"/\"olist_order_reviews_dataset.csv\")\n",
    "df_reviews = pd.DataFrame(reviews)"
   ]
  },
  {
   "cell_type": "markdown",
   "id": "d20ce8f9",
   "metadata": {},
   "source": [
    "Lo primero que quiero despues de importar mis datos es comprobar las columnas que tengo y si tengo datos repetidos, para poder preparar este dataset para el merge con mis otros datasets"
   ]
  },
  {
   "cell_type": "code",
   "execution_count": 71,
   "id": "43bb3e26",
   "metadata": {},
   "outputs": [
    {
     "name": "stdout",
     "output_type": "stream",
     "text": [
      "\n",
      "reviews columns:\n",
      " Index(['review_id', 'order_id', 'review_score', 'review_comment_title',\n",
      "       'review_comment_message', 'review_creation_date',\n",
      "       'review_answer_timestamp'],\n",
      "      dtype='object')\n"
     ]
    }
   ],
   "source": [
    "print(\"\\nreviews columns:\\n\", df_reviews.columns)"
   ]
  },
  {
   "cell_type": "code",
   "execution_count": 72,
   "id": "45662fdc",
   "metadata": {},
   "outputs": [
    {
     "name": "stdout",
     "output_type": "stream",
     "text": [
      "3\n"
     ]
    }
   ],
   "source": [
    "print(df_reviews['order_id'].value_counts().max())"
   ]
  },
  {
   "cell_type": "markdown",
   "id": "19474f24",
   "metadata": {},
   "source": [
    " Lo primero que nos interesa es saber que tipos de datos tenemos por columna, ya que por el nombre parece que tendremos texto en las columnas y fechas."
   ]
  },
  {
   "cell_type": "code",
   "execution_count": 73,
   "id": "2a934cd8",
   "metadata": {},
   "outputs": [
    {
     "name": "stdout",
     "output_type": "stream",
     "text": [
      "<class 'pandas.core.frame.DataFrame'>\n",
      "RangeIndex: 99224 entries, 0 to 99223\n",
      "Data columns (total 7 columns):\n",
      " #   Column                   Non-Null Count  Dtype \n",
      "---  ------                   --------------  ----- \n",
      " 0   review_id                99224 non-null  object\n",
      " 1   order_id                 99224 non-null  object\n",
      " 2   review_score             99224 non-null  int64 \n",
      " 3   review_comment_title     11568 non-null  object\n",
      " 4   review_comment_message   40977 non-null  object\n",
      " 5   review_creation_date     99224 non-null  object\n",
      " 6   review_answer_timestamp  99224 non-null  object\n",
      "dtypes: int64(1), object(6)\n",
      "memory usage: 5.3+ MB\n"
     ]
    }
   ],
   "source": [
    "df_reviews.info()"
   ]
  },
  {
   "cell_type": "code",
   "execution_count": 74,
   "id": "4f3705e2",
   "metadata": {},
   "outputs": [
    {
     "data": {
      "text/html": [
       "<div>\n",
       "<style scoped>\n",
       "    .dataframe tbody tr th:only-of-type {\n",
       "        vertical-align: middle;\n",
       "    }\n",
       "\n",
       "    .dataframe tbody tr th {\n",
       "        vertical-align: top;\n",
       "    }\n",
       "\n",
       "    .dataframe thead th {\n",
       "        text-align: right;\n",
       "    }\n",
       "</style>\n",
       "<table border=\"1\" class=\"dataframe\">\n",
       "  <thead>\n",
       "    <tr style=\"text-align: right;\">\n",
       "      <th></th>\n",
       "      <th>review_id</th>\n",
       "      <th>order_id</th>\n",
       "      <th>review_score</th>\n",
       "      <th>review_comment_title</th>\n",
       "      <th>review_comment_message</th>\n",
       "      <th>review_creation_date</th>\n",
       "      <th>review_answer_timestamp</th>\n",
       "    </tr>\n",
       "  </thead>\n",
       "  <tbody>\n",
       "    <tr>\n",
       "      <th>76755</th>\n",
       "      <td>0b30db715d548ed87d1e08b8714694ec</td>\n",
       "      <td>7428195653ad7e05d37c801977ea152b</td>\n",
       "      <td>1</td>\n",
       "      <td>NaN</td>\n",
       "      <td>NaN</td>\n",
       "      <td>2018-03-24 00:00:00</td>\n",
       "      <td>2018-03-24 12:01:18</td>\n",
       "    </tr>\n",
       "    <tr>\n",
       "      <th>18333</th>\n",
       "      <td>5c695a496ebae5438f51340dc4965af8</td>\n",
       "      <td>5af72703d4208ea6a92351eb9806b4de</td>\n",
       "      <td>1</td>\n",
       "      <td>NaN</td>\n",
       "      <td>Recebi o produto de péssima qualidade😭😭</td>\n",
       "      <td>2017-08-29 00:00:00</td>\n",
       "      <td>2017-09-01 01:08:59</td>\n",
       "    </tr>\n",
       "    <tr>\n",
       "      <th>93191</th>\n",
       "      <td>e049f23c19fcddd3190f8203fd862f04</td>\n",
       "      <td>efa1af2a8dfff552767e96fda9a44370</td>\n",
       "      <td>5</td>\n",
       "      <td>NaN</td>\n",
       "      <td>NaN</td>\n",
       "      <td>2017-12-19 00:00:00</td>\n",
       "      <td>2017-12-20 18:33:03</td>\n",
       "    </tr>\n",
       "  </tbody>\n",
       "</table>\n",
       "</div>"
      ],
      "text/plain": [
       "                              review_id                          order_id  \\\n",
       "76755  0b30db715d548ed87d1e08b8714694ec  7428195653ad7e05d37c801977ea152b   \n",
       "18333  5c695a496ebae5438f51340dc4965af8  5af72703d4208ea6a92351eb9806b4de   \n",
       "93191  e049f23c19fcddd3190f8203fd862f04  efa1af2a8dfff552767e96fda9a44370   \n",
       "\n",
       "       review_score review_comment_title  \\\n",
       "76755             1                  NaN   \n",
       "18333             1                  NaN   \n",
       "93191             5                  NaN   \n",
       "\n",
       "                        review_comment_message review_creation_date  \\\n",
       "76755                                      NaN  2018-03-24 00:00:00   \n",
       "18333  Recebi o produto de péssima qualidade😭😭  2017-08-29 00:00:00   \n",
       "93191                                      NaN  2017-12-19 00:00:00   \n",
       "\n",
       "      review_answer_timestamp  \n",
       "76755     2018-03-24 12:01:18  \n",
       "18333     2017-09-01 01:08:59  \n",
       "93191     2017-12-20 18:33:03  "
      ]
     },
     "execution_count": 74,
     "metadata": {},
     "output_type": "execute_result"
    }
   ],
   "source": [
    "df_reviews.sample(3)"
   ]
  },
  {
   "cell_type": "markdown",
   "id": "92fb7580",
   "metadata": {},
   "source": [
    "Con esto podemos ver que tenemos una columna con el score de la review, que nos va a dar mucha información, sumado a el comentario de esta misma review.\n",
    "\n",
    "Las fechas es algo que podremos descartar al final, ya que no nos proporciona información, junto con el review id.\n",
    "\n",
    "Algo a tener en cuenta en el EDA es la cantidad de valores nulos en el titulo de las reviews y en las propias reviews."
   ]
  },
  {
   "cell_type": "code",
   "execution_count": 75,
   "id": "ba675e78",
   "metadata": {},
   "outputs": [
    {
     "data": {
      "text/plain": [
       "np.int64(3)"
      ]
     },
     "execution_count": 75,
     "metadata": {},
     "output_type": "execute_result"
    }
   ],
   "source": [
    "# Comprobamos si hay orders duplicados\n",
    "df_reviews[\"order_id\"].value_counts().max()"
   ]
  },
  {
   "cell_type": "markdown",
   "id": "ae681fc2",
   "metadata": {},
   "source": [
    "Hay orders duplicados, esto puede significar que una persona editó su review para cambiar su nota.\n",
    "\n",
    "Esto nos puede proporcionar información valiosa, podemos saber si la nota cambió, cuántas reviews totales puso un cliente por order y sacar una media de las notas.\n",
    "\n",
    "En cuanto al texto de la review, nos quedaremos con el más reciente, en caso de querer utilizarlo más adelante.\n",
    "\n",
    "Para comenzar, ordenaremos el dataset por orden cronológico, despues crearemos las columnas que nos pueden proporcionar más datos y despues haremos el merge"
   ]
  },
  {
   "cell_type": "code",
   "execution_count": 76,
   "id": "47e05830",
   "metadata": {},
   "outputs": [
    {
     "data": {
      "text/html": [
       "<div>\n",
       "<style scoped>\n",
       "    .dataframe tbody tr th:only-of-type {\n",
       "        vertical-align: middle;\n",
       "    }\n",
       "\n",
       "    .dataframe tbody tr th {\n",
       "        vertical-align: top;\n",
       "    }\n",
       "\n",
       "    .dataframe thead th {\n",
       "        text-align: right;\n",
       "    }\n",
       "</style>\n",
       "<table border=\"1\" class=\"dataframe\">\n",
       "  <thead>\n",
       "    <tr style=\"text-align: right;\">\n",
       "      <th></th>\n",
       "      <th>total_reviews</th>\n",
       "      <th>worst_review</th>\n",
       "      <th>mean_review_score</th>\n",
       "      <th>last_review</th>\n",
       "      <th>review_comment_message</th>\n",
       "      <th>review_comment_title</th>\n",
       "    </tr>\n",
       "    <tr>\n",
       "      <th>order_id</th>\n",
       "      <th></th>\n",
       "      <th></th>\n",
       "      <th></th>\n",
       "      <th></th>\n",
       "      <th></th>\n",
       "      <th></th>\n",
       "    </tr>\n",
       "  </thead>\n",
       "  <tbody>\n",
       "    <tr>\n",
       "      <th>00010242fe8c5a6d1ba2dd792cb16214</th>\n",
       "      <td>1</td>\n",
       "      <td>5</td>\n",
       "      <td>5.0</td>\n",
       "      <td>5</td>\n",
       "      <td>Perfeito, produto entregue antes do combinado.</td>\n",
       "      <td>None</td>\n",
       "    </tr>\n",
       "    <tr>\n",
       "      <th>00018f77f2f0320c557190d7a144bdd3</th>\n",
       "      <td>1</td>\n",
       "      <td>4</td>\n",
       "      <td>4.0</td>\n",
       "      <td>4</td>\n",
       "      <td>None</td>\n",
       "      <td>None</td>\n",
       "    </tr>\n",
       "    <tr>\n",
       "      <th>000229ec398224ef6ca0657da4fc703e</th>\n",
       "      <td>1</td>\n",
       "      <td>5</td>\n",
       "      <td>5.0</td>\n",
       "      <td>5</td>\n",
       "      <td>Chegou antes do prazo previsto e o produto sur...</td>\n",
       "      <td>None</td>\n",
       "    </tr>\n",
       "  </tbody>\n",
       "</table>\n",
       "</div>"
      ],
      "text/plain": [
       "                                  total_reviews  worst_review  \\\n",
       "order_id                                                        \n",
       "00010242fe8c5a6d1ba2dd792cb16214              1             5   \n",
       "00018f77f2f0320c557190d7a144bdd3              1             4   \n",
       "000229ec398224ef6ca0657da4fc703e              1             5   \n",
       "\n",
       "                                  mean_review_score  last_review  \\\n",
       "order_id                                                           \n",
       "00010242fe8c5a6d1ba2dd792cb16214                5.0            5   \n",
       "00018f77f2f0320c557190d7a144bdd3                4.0            4   \n",
       "000229ec398224ef6ca0657da4fc703e                5.0            5   \n",
       "\n",
       "                                                             review_comment_message  \\\n",
       "order_id                                                                              \n",
       "00010242fe8c5a6d1ba2dd792cb16214     Perfeito, produto entregue antes do combinado.   \n",
       "00018f77f2f0320c557190d7a144bdd3                                               None   \n",
       "000229ec398224ef6ca0657da4fc703e  Chegou antes do prazo previsto e o produto sur...   \n",
       "\n",
       "                                 review_comment_title  \n",
       "order_id                                               \n",
       "00010242fe8c5a6d1ba2dd792cb16214                 None  \n",
       "00018f77f2f0320c557190d7a144bdd3                 None  \n",
       "000229ec398224ef6ca0657da4fc703e                 None  "
      ]
     },
     "execution_count": 76,
     "metadata": {},
     "output_type": "execute_result"
    }
   ],
   "source": [
    "df_reviews[\"review_creation_date\"] = pd.to_datetime(df_reviews[\"review_creation_date\"])\n",
    "df_reviews.sort_values(\"review_creation_date\", inplace=True)\n",
    "\n",
    "# Dejo esto aquí porque es mi primera vez usando .agg() así no me pierdo.\n",
    "\n",
    "# df_total_rewiews = ( \n",
    "#     df_reviews\n",
    "#         .groupby(\"order_id\", as_index=False)[\"order_id\"]\n",
    "#         .count()\n",
    "#         .rename(columns={\"order_id\": \"total_reviews\"})\n",
    "# )\n",
    "\n",
    "# df_mean_reviews = (\n",
    "#     df_reviews\n",
    "#         .groupby(\"order_id\", as_index=False)[\"review_score\"].mean()\n",
    "#         .rename(columns={\"review_score\": \"mean_score\"})\n",
    "# )\n",
    "\n",
    "# df_worst_score = (\n",
    "#     df_reviews\n",
    "#     .groupby(\"order_id\", as_index=False)[\"review_score\"].min()\n",
    "#     .rename(columns={\"review_score\": \"min_score\"})\n",
    "# )\n",
    "\n",
    "# df_last_score = (\n",
    "#     df_reviews\n",
    "#       .drop_duplicates(subset=\"order_id\", keep=\"last\")   # la última tras el sort\n",
    "#       .loc[:, [\"order_id\", \"review_score\"]]\n",
    "#       .rename(columns={\"review_score\": \"last_score\"})\n",
    "# )\n",
    "\n",
    "# Optimización de codigo usando función .agg()\n",
    "agg_reviews = (df_reviews\n",
    "                .groupby(\"order_id\")\n",
    "                .agg(\n",
    "                    total_reviews = (\"order_id\", \"size\"),\n",
    "                    worst_review = (\"review_score\", \"min\"),\n",
    "                    mean_review_score = (\"review_score\", \"mean\"),\n",
    "                    last_review = (\"review_score\", \"last\"),\n",
    "                    review_comment_message = (\"review_comment_message\", \"last\"),\n",
    "                    review_comment_title = (\"review_comment_title\", \"last\")\n",
    "                )\n",
    "\n",
    ")\n",
    "\n",
    "agg_reviews.head(3)"
   ]
  },
  {
   "cell_type": "markdown",
   "id": "dbd1ec1b",
   "metadata": {},
   "source": [
    "Con esto hemos obtenido todos los datos que importantes de este dataset y hemos creado nuevos, que pueden darnos algo de información sobre el comportamiento de un cliente y si es un potencial usuario que va a abandonar el servicio"
   ]
  },
  {
   "cell_type": "markdown",
   "id": "d0bd718c",
   "metadata": {},
   "source": [
    "Por último exportaremos este dataset procesado."
   ]
  },
  {
   "cell_type": "code",
   "execution_count": 77,
   "id": "18c659c8",
   "metadata": {},
   "outputs": [],
   "source": [
    "agg_reviews.reset_index()\n",
    "agg_reviews.to_csv(DATA_DIR/\"processed\"/\"processed_reviews.csv\", index=False)"
   ]
  }
 ],
 "metadata": {
  "kernelspec": {
   "display_name": "DS-IBM",
   "language": "python",
   "name": "python3"
  },
  "language_info": {
   "codemirror_mode": {
    "name": "ipython",
    "version": 3
   },
   "file_extension": ".py",
   "mimetype": "text/x-python",
   "name": "python",
   "nbconvert_exporter": "python",
   "pygments_lexer": "ipython3",
   "version": "3.13.5"
  }
 },
 "nbformat": 4,
 "nbformat_minor": 5
}
