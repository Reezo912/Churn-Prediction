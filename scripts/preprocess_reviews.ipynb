{
 "cells": [
  {
   "cell_type": "markdown",
   "id": "571e1556",
   "metadata": {},
   "source": [
    "# Preprocess Review Dataset"
   ]
  },
  {
   "cell_type": "markdown",
   "id": "458d535c",
   "metadata": {},
   "source": [
    "Este dataset es uno de los más importantes, ya que una mala review puede ser un indicativo de que alguien va a dejar el servicio."
   ]
  },
  {
   "cell_type": "code",
   "execution_count": 10,
   "id": "0baec5dc",
   "metadata": {},
   "outputs": [],
   "source": [
    "from pathlib import Path\n",
    "\n",
    "import pandas as pd\n",
    "import numpy as np"
   ]
  },
  {
   "cell_type": "code",
   "execution_count": 11,
   "id": "4b031e95",
   "metadata": {},
   "outputs": [],
   "source": [
    "# Directorios donde se encuentran mis datos\n",
    "BASE_DIR = Path.cwd().parent\n",
    "DATA_DIR = (BASE_DIR / \"data\").resolve()"
   ]
  },
  {
   "cell_type": "code",
   "execution_count": 12,
   "id": "2bddb939",
   "metadata": {},
   "outputs": [],
   "source": [
    "reviews = pd.read_csv(DATA_DIR/\"raw\"/\"olist_order_reviews_dataset.csv\")\n",
    "df_reviews = pd.DataFrame(reviews)"
   ]
  },
  {
   "cell_type": "markdown",
   "id": "d20ce8f9",
   "metadata": {},
   "source": [
    "Lo primero que quiero despues de importar mis datos es comprobar las columnas que tengo y si tengo datos repetidos, para poder preparar este dataset para el merge con mis otros datasets"
   ]
  },
  {
   "cell_type": "code",
   "execution_count": 13,
   "id": "43bb3e26",
   "metadata": {},
   "outputs": [
    {
     "name": "stdout",
     "output_type": "stream",
     "text": [
      "\n",
      "reviews columns:\n",
      " Index(['review_id', 'order_id', 'review_score', 'review_comment_title',\n",
      "       'review_comment_message', 'review_creation_date',\n",
      "       'review_answer_timestamp'],\n",
      "      dtype='object')\n"
     ]
    }
   ],
   "source": [
    "print(\"\\nreviews columns:\\n\", df_reviews.columns)"
   ]
  },
  {
   "cell_type": "code",
   "execution_count": 14,
   "id": "45662fdc",
   "metadata": {},
   "outputs": [
    {
     "name": "stdout",
     "output_type": "stream",
     "text": [
      "3\n"
     ]
    }
   ],
   "source": [
    "print(df_reviews['order_id'].value_counts().max())"
   ]
  },
  {
   "cell_type": "markdown",
   "id": "19474f24",
   "metadata": {},
   "source": [
    " Lo primero que nos interesa es saber que tipos de datos tenemos por columna, ya que por el nombre parece que tendremos texto en las columnas y fechas."
   ]
  },
  {
   "cell_type": "code",
   "execution_count": 15,
   "id": "2a934cd8",
   "metadata": {},
   "outputs": [
    {
     "name": "stdout",
     "output_type": "stream",
     "text": [
      "<class 'pandas.core.frame.DataFrame'>\n",
      "RangeIndex: 99224 entries, 0 to 99223\n",
      "Data columns (total 7 columns):\n",
      " #   Column                   Non-Null Count  Dtype \n",
      "---  ------                   --------------  ----- \n",
      " 0   review_id                99224 non-null  object\n",
      " 1   order_id                 99224 non-null  object\n",
      " 2   review_score             99224 non-null  int64 \n",
      " 3   review_comment_title     11568 non-null  object\n",
      " 4   review_comment_message   40977 non-null  object\n",
      " 5   review_creation_date     99224 non-null  object\n",
      " 6   review_answer_timestamp  99224 non-null  object\n",
      "dtypes: int64(1), object(6)\n",
      "memory usage: 5.3+ MB\n"
     ]
    }
   ],
   "source": [
    "df_reviews.info()"
   ]
  },
  {
   "cell_type": "code",
   "execution_count": 16,
   "id": "4f3705e2",
   "metadata": {},
   "outputs": [
    {
     "data": {
      "text/html": [
       "<div>\n",
       "<style scoped>\n",
       "    .dataframe tbody tr th:only-of-type {\n",
       "        vertical-align: middle;\n",
       "    }\n",
       "\n",
       "    .dataframe tbody tr th {\n",
       "        vertical-align: top;\n",
       "    }\n",
       "\n",
       "    .dataframe thead th {\n",
       "        text-align: right;\n",
       "    }\n",
       "</style>\n",
       "<table border=\"1\" class=\"dataframe\">\n",
       "  <thead>\n",
       "    <tr style=\"text-align: right;\">\n",
       "      <th></th>\n",
       "      <th>review_id</th>\n",
       "      <th>order_id</th>\n",
       "      <th>review_score</th>\n",
       "      <th>review_comment_title</th>\n",
       "      <th>review_comment_message</th>\n",
       "      <th>review_creation_date</th>\n",
       "      <th>review_answer_timestamp</th>\n",
       "    </tr>\n",
       "  </thead>\n",
       "  <tbody>\n",
       "    <tr>\n",
       "      <th>42324</th>\n",
       "      <td>b085317db08b64d8f36cbcc729b1aa20</td>\n",
       "      <td>8800d14eb6eb6031624538ca8750b921</td>\n",
       "      <td>1</td>\n",
       "      <td>NaN</td>\n",
       "      <td>Ainda não recebi o produto</td>\n",
       "      <td>2017-07-28 00:00:00</td>\n",
       "      <td>2017-07-28 19:07:43</td>\n",
       "    </tr>\n",
       "    <tr>\n",
       "      <th>43089</th>\n",
       "      <td>f210d277317161b0f34c2d52d4e504cb</td>\n",
       "      <td>82ee2df3a8f23cfa9208bde62204119e</td>\n",
       "      <td>5</td>\n",
       "      <td>NaN</td>\n",
       "      <td>que continue com essa perfeição</td>\n",
       "      <td>2018-04-19 00:00:00</td>\n",
       "      <td>2018-04-20 02:00:07</td>\n",
       "    </tr>\n",
       "    <tr>\n",
       "      <th>34346</th>\n",
       "      <td>c4aabbc3ca42032be47e779f24aa7bda</td>\n",
       "      <td>c6a5f1a0e18d1cad856f95794462ecbc</td>\n",
       "      <td>5</td>\n",
       "      <td>NaN</td>\n",
       "      <td>Olá. Recebi duas carretilhas apenas. Meu pedid...</td>\n",
       "      <td>2017-09-27 00:00:00</td>\n",
       "      <td>2017-09-28 15:18:02</td>\n",
       "    </tr>\n",
       "  </tbody>\n",
       "</table>\n",
       "</div>"
      ],
      "text/plain": [
       "                              review_id                          order_id  \\\n",
       "42324  b085317db08b64d8f36cbcc729b1aa20  8800d14eb6eb6031624538ca8750b921   \n",
       "43089  f210d277317161b0f34c2d52d4e504cb  82ee2df3a8f23cfa9208bde62204119e   \n",
       "34346  c4aabbc3ca42032be47e779f24aa7bda  c6a5f1a0e18d1cad856f95794462ecbc   \n",
       "\n",
       "       review_score review_comment_title  \\\n",
       "42324             1                  NaN   \n",
       "43089             5                  NaN   \n",
       "34346             5                  NaN   \n",
       "\n",
       "                                  review_comment_message review_creation_date  \\\n",
       "42324                         Ainda não recebi o produto  2017-07-28 00:00:00   \n",
       "43089                    que continue com essa perfeição  2018-04-19 00:00:00   \n",
       "34346  Olá. Recebi duas carretilhas apenas. Meu pedid...  2017-09-27 00:00:00   \n",
       "\n",
       "      review_answer_timestamp  \n",
       "42324     2017-07-28 19:07:43  \n",
       "43089     2018-04-20 02:00:07  \n",
       "34346     2017-09-28 15:18:02  "
      ]
     },
     "execution_count": 16,
     "metadata": {},
     "output_type": "execute_result"
    }
   ],
   "source": [
    "df_reviews.sample(3)"
   ]
  },
  {
   "cell_type": "markdown",
   "id": "92fb7580",
   "metadata": {},
   "source": [
    "Con esto podemos ver que tenemos una columna con el score de la review, que nos va a dar mucha información, sumado a el comentario de esta misma review.\n",
    "\n",
    "Las fechas es algo que podremos descartar al final, ya que no nos proporciona información, junto con el review id.\n",
    "\n",
    "Algo a tener en cuenta en el EDA es la cantidad de valores nulos en el titulo de las reviews y en las propias reviews."
   ]
  },
  {
   "cell_type": "code",
   "execution_count": 17,
   "id": "ba675e78",
   "metadata": {},
   "outputs": [
    {
     "data": {
      "text/plain": [
       "np.int64(3)"
      ]
     },
     "execution_count": 17,
     "metadata": {},
     "output_type": "execute_result"
    }
   ],
   "source": [
    "# Comprobamos si hay orders duplicados\n",
    "df_reviews[\"order_id\"].value_counts().max()"
   ]
  },
  {
   "cell_type": "markdown",
   "id": "ae681fc2",
   "metadata": {},
   "source": [
    "Hay orders duplicados, esto puede significar que una persona editó su review para cambiar su nota.\n",
    "\n",
    "Esto nos puede proporcionar información valiosa, podemos saber si la nota cambió, cuántas reviews totales puso un cliente por order y sacar una media de las notas.\n",
    "\n",
    "En cuanto al texto de la review, nos quedaremos con el más reciente, en caso de querer utilizarlo más adelante.\n",
    "\n",
    "Para comenzar, ordenaremos el dataset por orden cronológico, despues crearemos las columnas que nos pueden proporcionar más datos y despues haremos el merge"
   ]
  },
  {
   "cell_type": "code",
   "execution_count": 19,
   "id": "47e05830",
   "metadata": {},
   "outputs": [
    {
     "data": {
      "text/html": [
       "<div>\n",
       "<style scoped>\n",
       "    .dataframe tbody tr th:only-of-type {\n",
       "        vertical-align: middle;\n",
       "    }\n",
       "\n",
       "    .dataframe tbody tr th {\n",
       "        vertical-align: top;\n",
       "    }\n",
       "\n",
       "    .dataframe thead th {\n",
       "        text-align: right;\n",
       "    }\n",
       "</style>\n",
       "<table border=\"1\" class=\"dataframe\">\n",
       "  <thead>\n",
       "    <tr style=\"text-align: right;\">\n",
       "      <th></th>\n",
       "      <th>total_reviews</th>\n",
       "      <th>worst_review</th>\n",
       "      <th>mean_review_score</th>\n",
       "      <th>last_review</th>\n",
       "    </tr>\n",
       "    <tr>\n",
       "      <th>order_id</th>\n",
       "      <th></th>\n",
       "      <th></th>\n",
       "      <th></th>\n",
       "      <th></th>\n",
       "    </tr>\n",
       "  </thead>\n",
       "  <tbody>\n",
       "    <tr>\n",
       "      <th>00010242fe8c5a6d1ba2dd792cb16214</th>\n",
       "      <td>1</td>\n",
       "      <td>5</td>\n",
       "      <td>5.0</td>\n",
       "      <td>5</td>\n",
       "    </tr>\n",
       "    <tr>\n",
       "      <th>00018f77f2f0320c557190d7a144bdd3</th>\n",
       "      <td>1</td>\n",
       "      <td>4</td>\n",
       "      <td>4.0</td>\n",
       "      <td>4</td>\n",
       "    </tr>\n",
       "    <tr>\n",
       "      <th>000229ec398224ef6ca0657da4fc703e</th>\n",
       "      <td>1</td>\n",
       "      <td>5</td>\n",
       "      <td>5.0</td>\n",
       "      <td>5</td>\n",
       "    </tr>\n",
       "  </tbody>\n",
       "</table>\n",
       "</div>"
      ],
      "text/plain": [
       "                                  total_reviews  worst_review  \\\n",
       "order_id                                                        \n",
       "00010242fe8c5a6d1ba2dd792cb16214              1             5   \n",
       "00018f77f2f0320c557190d7a144bdd3              1             4   \n",
       "000229ec398224ef6ca0657da4fc703e              1             5   \n",
       "\n",
       "                                  mean_review_score  last_review  \n",
       "order_id                                                          \n",
       "00010242fe8c5a6d1ba2dd792cb16214                5.0            5  \n",
       "00018f77f2f0320c557190d7a144bdd3                4.0            4  \n",
       "000229ec398224ef6ca0657da4fc703e                5.0            5  "
      ]
     },
     "execution_count": 19,
     "metadata": {},
     "output_type": "execute_result"
    }
   ],
   "source": [
    "df_reviews[\"review_creation_date\"] = pd.to_datetime(df_reviews[\"review_creation_date\"])\n",
    "df_reviews.sort_values(\"review_creation_date\", inplace=True)\n",
    "\n",
    "# Dejo esto aquí porque es mi primera vez usando .agg() así no me pierdo.\n",
    "\n",
    "# df_total_rewiews = ( \n",
    "#     df_reviews\n",
    "#         .groupby(\"order_id\", as_index=False)[\"order_id\"]\n",
    "#         .count()\n",
    "#         .rename(columns={\"order_id\": \"total_reviews\"})\n",
    "# )\n",
    "\n",
    "# df_mean_reviews = (\n",
    "#     df_reviews\n",
    "#         .groupby(\"order_id\", as_index=False)[\"review_score\"].mean()\n",
    "#         .rename(columns={\"review_score\": \"mean_score\"})\n",
    "# )\n",
    "\n",
    "# df_worst_score = (\n",
    "#     df_reviews\n",
    "#     .groupby(\"order_id\", as_index=False)[\"review_score\"].min()\n",
    "#     .rename(columns={\"review_score\": \"min_score\"})\n",
    "# )\n",
    "\n",
    "# df_last_score = (\n",
    "#     df_reviews\n",
    "#       .drop_duplicates(subset=\"order_id\", keep=\"last\")   # la última tras el sort\n",
    "#       .loc[:, [\"order_id\", \"review_score\"]]\n",
    "#       .rename(columns={\"review_score\": \"last_score\"})\n",
    "# )\n",
    "\n",
    "# Optimización de codigo usando función .agg()\n",
    "agg_reviews = (df_reviews\n",
    "                .groupby(\"order_id\")\n",
    "                .agg(\n",
    "                    total_reviews = (\"order_id\", \"size\"),\n",
    "                    worst_review = (\"review_score\", \"min\"),\n",
    "                    mean_review_score = (\"review_score\", \"mean\"),\n",
    "                    last_review = (\"review_score\", \"last\")\n",
    "                )\n",
    "\n",
    ")\n",
    "\n",
    "agg_reviews.head(3)"
   ]
  },
  {
   "cell_type": "markdown",
   "id": "ef5a7734",
   "metadata": {},
   "source": [
    "Una vez hecho esto, nuestro siguiente paso será unir este nuevo dataset al original y despues hacer drop de las columnas que no queremos mantener"
   ]
  },
  {
   "cell_type": "code",
   "execution_count": null,
   "id": "7356423b",
   "metadata": {},
   "outputs": [],
   "source": []
  },
  {
   "cell_type": "code",
   "execution_count": null,
   "id": "7b26d3da",
   "metadata": {},
   "outputs": [],
   "source": [
    "df_reviews.drop(columns=[\"review_id\", \"review_creation_date\", \"review_answer_timestamp\"], inplace=True)\n",
    "df_reviews.head()"
   ]
  }
 ],
 "metadata": {
  "kernelspec": {
   "display_name": "DS-IBM",
   "language": "python",
   "name": "python3"
  },
  "language_info": {
   "codemirror_mode": {
    "name": "ipython",
    "version": 3
   },
   "file_extension": ".py",
   "mimetype": "text/x-python",
   "name": "python",
   "nbconvert_exporter": "python",
   "pygments_lexer": "ipython3",
   "version": "3.13.5"
  }
 },
 "nbformat": 4,
 "nbformat_minor": 5
}
