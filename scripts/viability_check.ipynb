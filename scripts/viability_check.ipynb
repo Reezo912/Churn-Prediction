{
 "cells": [
  {
   "cell_type": "markdown",
   "metadata": {},
   "source": [
    "# 📈 Viability Check — Olist (Churn vs. Segunda Compra)\n",
    "\n",
    "Este cuaderno evalúa **si el dataset Olist sirve para churn** y, si no, qué tan **viable** es tratarlo como **propensión a segunda compra** en un horizonte `H_DAYS`.\n",
    "\n",
    "**Puntos clave del análisis:**\n",
    "- Porcentaje de clientes con **≥ 2 compras** (señal mínima para aprender recompra).\n",
    "- **Censura temporal**: pedidos demasiado cerca del final del periodo que impiden etiquetar bien.\n",
    "- **Prevalencia** de la clase objetivo y **baseline** de PR-AUC (azar).\n",
    "- Cotas simples para **Precision@k** y **Lift@k** en el mejor de los casos.\n",
    "\n",
    "> **Nota:** No se usan variables con **fuga temporal**. Solo fechas de compra."
   ]
  },
  {
   "cell_type": "code",
   "execution_count": 9,
   "metadata": {
    "trusted": true
   },
   "outputs": [],
   "source": [
    "# Parámetros\n",
    "H_DAYS = 180              # Horizonte para recompra/churn\n",
    "DELIVERED_ONLY = False    # Si True, filtra a pedidos entregados\n",
    "\n",
    "import pandas as pd\n",
    "import numpy as np\n",
    "import os, glob\n",
    "import matplotlib.pyplot as plt\n",
    "\n",
    "pd.set_option('display.max_columns', 120)"
   ]
  },
  {
   "cell_type": "markdown",
   "metadata": {},
   "source": [
    "### 🔎 Carga de datos (auto-detector de rutas)\n",
    "\n",
    "Busca archivos típicos dentro de `./data` y subcarpetas. Si no los encuentra, ajusta las rutas manualmente."
   ]
  },
  {
   "cell_type": "code",
   "execution_count": 10,
   "metadata": {
    "trusted": true
   },
   "outputs": [
    {
     "name": "stdout",
     "output_type": "stream",
     "text": [
      "CUSTOMERS_CSV: ../data\\raw\\olist_customers_dataset.csv\n",
      "ORDERS_CSV   : ../data\\raw\\olist_orders_dataset.csv\n"
     ]
    }
   ],
   "source": [
    "def _find_csv(patterns, roots=(\".\", \"./data\", \"./data/raw\", \"../data\", \"../data/raw\")):\n",
    "    cand = []\n",
    "    for root in roots:\n",
    "        for pat in patterns:\n",
    "            cand.extend(glob.glob(os.path.join(root, \"**\", pat), recursive=True))\n",
    "    # Prioriza rutas con 'olist_' y 'dataset'\n",
    "    cand = sorted(cand, key=lambda p: ((\"olist_\" not in os.path.basename(p)) , len(p)))\n",
    "    return cand[0] if cand else None\n",
    "\n",
    "CUSTOMERS_CSV = _find_csv([\"*customers*.csv\"])\n",
    "ORDERS_CSV    = _find_csv([\"*orders*.csv\"])\n",
    "\n",
    "print(\"CUSTOMERS_CSV:\", CUSTOMERS_CSV)\n",
    "print(\"ORDERS_CSV   :\", ORDERS_CSV)\n",
    "\n",
    "if not CUSTOMERS_CSV or not ORDERS_CSV:\n",
    "    raise FileNotFoundError(\"No se localizaron los CSV de customers/orders. Ajusta CUSTOMERS_CSV y ORDERS_CSV manualmente.\")"
   ]
  },
  {
   "cell_type": "code",
   "execution_count": 11,
   "metadata": {
    "trusted": true
   },
   "outputs": [
    {
     "name": "stdout",
     "output_type": "stream",
     "text": [
      "Clientes únicos: 96096\n",
      "Pedidos totales: 99441\n"
     ]
    },
    {
     "data": {
      "text/html": [
       "<div>\n",
       "<style scoped>\n",
       "    .dataframe tbody tr th:only-of-type {\n",
       "        vertical-align: middle;\n",
       "    }\n",
       "\n",
       "    .dataframe tbody tr th {\n",
       "        vertical-align: top;\n",
       "    }\n",
       "\n",
       "    .dataframe thead th {\n",
       "        text-align: right;\n",
       "    }\n",
       "</style>\n",
       "<table border=\"1\" class=\"dataframe\">\n",
       "  <thead>\n",
       "    <tr style=\"text-align: right;\">\n",
       "      <th></th>\n",
       "      <th>order_id</th>\n",
       "      <th>customer_id</th>\n",
       "      <th>order_status</th>\n",
       "      <th>order_purchase_timestamp</th>\n",
       "      <th>order_approved_at</th>\n",
       "      <th>order_delivered_carrier_date</th>\n",
       "      <th>order_delivered_customer_date</th>\n",
       "      <th>order_estimated_delivery_date</th>\n",
       "      <th>customer_unique_id</th>\n",
       "      <th>t</th>\n",
       "    </tr>\n",
       "  </thead>\n",
       "  <tbody>\n",
       "    <tr>\n",
       "      <th>0</th>\n",
       "      <td>e22acc9c116caa3f2b7121bbb380d08e</td>\n",
       "      <td>fadbb3709178fc513abc1b2670aa1ad2</td>\n",
       "      <td>delivered</td>\n",
       "      <td>2018-05-10 10:56:27</td>\n",
       "      <td>2018-05-10 11:11:18</td>\n",
       "      <td>2018-05-12 08:18:00</td>\n",
       "      <td>2018-05-16 20:48:37</td>\n",
       "      <td>2018-05-21 00:00:00</td>\n",
       "      <td>0000366f3b9a7992bf8c76cfdf3221e2</td>\n",
       "      <td>2018-05-10 10:56:27</td>\n",
       "    </tr>\n",
       "    <tr>\n",
       "      <th>1</th>\n",
       "      <td>3594e05a005ac4d06a72673270ef9ec9</td>\n",
       "      <td>4cb282e167ae9234755102258dd52ee8</td>\n",
       "      <td>delivered</td>\n",
       "      <td>2018-05-07 11:11:27</td>\n",
       "      <td>2018-05-07 18:25:44</td>\n",
       "      <td>2018-05-09 12:18:00</td>\n",
       "      <td>2018-05-10 18:02:42</td>\n",
       "      <td>2018-05-15 00:00:00</td>\n",
       "      <td>0000b849f77a49e4a4ce2b2a4ca5be3f</td>\n",
       "      <td>2018-05-07 11:11:27</td>\n",
       "    </tr>\n",
       "    <tr>\n",
       "      <th>2</th>\n",
       "      <td>b33ec3b699337181488304f362a6b734</td>\n",
       "      <td>9b3932a6253894a02c1df9d19004239f</td>\n",
       "      <td>delivered</td>\n",
       "      <td>2017-03-10 21:05:03</td>\n",
       "      <td>2017-03-10 21:05:03</td>\n",
       "      <td>2017-03-13 12:58:30</td>\n",
       "      <td>2017-04-05 14:38:47</td>\n",
       "      <td>2017-04-07 00:00:00</td>\n",
       "      <td>0000f46a3911fa3c0805444483337064</td>\n",
       "      <td>2017-03-10 21:05:03</td>\n",
       "    </tr>\n",
       "  </tbody>\n",
       "</table>\n",
       "</div>"
      ],
      "text/plain": [
       "                           order_id                       customer_id  \\\n",
       "0  e22acc9c116caa3f2b7121bbb380d08e  fadbb3709178fc513abc1b2670aa1ad2   \n",
       "1  3594e05a005ac4d06a72673270ef9ec9  4cb282e167ae9234755102258dd52ee8   \n",
       "2  b33ec3b699337181488304f362a6b734  9b3932a6253894a02c1df9d19004239f   \n",
       "\n",
       "  order_status order_purchase_timestamp    order_approved_at  \\\n",
       "0    delivered      2018-05-10 10:56:27  2018-05-10 11:11:18   \n",
       "1    delivered      2018-05-07 11:11:27  2018-05-07 18:25:44   \n",
       "2    delivered      2017-03-10 21:05:03  2017-03-10 21:05:03   \n",
       "\n",
       "  order_delivered_carrier_date order_delivered_customer_date  \\\n",
       "0          2018-05-12 08:18:00           2018-05-16 20:48:37   \n",
       "1          2018-05-09 12:18:00           2018-05-10 18:02:42   \n",
       "2          2017-03-13 12:58:30           2017-04-05 14:38:47   \n",
       "\n",
       "  order_estimated_delivery_date                customer_unique_id  \\\n",
       "0           2018-05-21 00:00:00  0000366f3b9a7992bf8c76cfdf3221e2   \n",
       "1           2018-05-15 00:00:00  0000b849f77a49e4a4ce2b2a4ca5be3f   \n",
       "2           2017-04-07 00:00:00  0000f46a3911fa3c0805444483337064   \n",
       "\n",
       "                    t  \n",
       "0 2018-05-10 10:56:27  \n",
       "1 2018-05-07 11:11:27  \n",
       "2 2017-03-10 21:05:03  "
      ]
     },
     "execution_count": 11,
     "metadata": {},
     "output_type": "execute_result"
    }
   ],
   "source": [
    "customers = pd.read_csv(CUSTOMERS_CSV)\n",
    "orders_raw = pd.read_csv(ORDERS_CSV)\n",
    "\n",
    "req_cols = {'customer_id','customer_unique_id'}\n",
    "if not req_cols.issubset(customers.columns):\n",
    "    raise ValueError(f\"Faltan columnas en customers: se esperaba {req_cols}, hay {set(customers.columns)}\")\n",
    "\n",
    "if 'order_purchase_timestamp' not in orders_raw.columns:\n",
    "    raise ValueError(\"Falta 'order_purchase_timestamp' en orders.\")\n",
    "\n",
    "orders = orders_raw.merge(\n",
    "    customers[['customer_id','customer_unique_id']].drop_duplicates(),\n",
    "    on='customer_id', how='left'\n",
    ")\n",
    "orders['t'] = pd.to_datetime(orders['order_purchase_timestamp'])\n",
    "if DELIVERED_ONLY and 'order_status' in orders.columns:\n",
    "    orders = orders[orders['order_status'].eq('delivered')].copy()\n",
    "\n",
    "orders = orders.sort_values(['customer_unique_id','t']).reset_index(drop=True)\n",
    "\n",
    "print('Clientes únicos:', orders['customer_unique_id'].nunique())\n",
    "print('Pedidos totales:', len(orders))\n",
    "orders.head(3)"
   ]
  },
  {
   "cell_type": "markdown",
   "metadata": {},
   "source": [
    "### 👥 Distribución de compras por cliente"
   ]
  },
  {
   "cell_type": "code",
   "execution_count": 12,
   "metadata": {
    "trusted": true
   },
   "outputs": [
    {
     "name": "stdout",
     "output_type": "stream",
     "text": [
      "Clientes con ≥2 pedidos: 2997 de 96096  (3.12%)\n",
      "count    96096.000000\n",
      "mean         1.034809\n",
      "std          0.214384\n",
      "min          1.000000\n",
      "25%          1.000000\n",
      "50%          1.000000\n",
      "75%          1.000000\n",
      "max         17.000000\n",
      "Name: n_orders, dtype: float64\n"
     ]
    },
    {
     "data": {
      "image/png": "[encoded data removed]",
      "text/plain": [
       "<Figure size 640x480 with 1 Axes>"
      ]
     },
     "metadata": {},
     "output_type": "display_data"
    }
   ],
   "source": [
    "by_cust = orders.groupby('customer_unique_id').size().rename('n_orders')\n",
    "n_clients = by_cust.shape[0]\n",
    "n_ge2 = (by_cust >= 2).sum()\n",
    "print(f\"Clientes con ≥2 pedidos: {n_ge2} de {n_clients}  ({n_ge2/n_clients:.2%})\")\n",
    "print(by_cust.describe())\n",
    "\n",
    "# Gráfico simple: 1 vs ≥2 pedidos\n",
    "counts = pd.Series({\n",
    "    \"1 pedido\": (by_cust==1).sum(),\n",
    "    \"≥2 pedidos\": (by_cust>=2).sum(),\n",
    "})\n",
    "plt.figure()\n",
    "counts.plot(kind='bar')\n",
    "plt.title(\"Clientes por número de pedidos (1 vs ≥2)\")\n",
    "plt.ylabel(\"Cantidad de clientes\")\n",
    "plt.xlabel(\"\")\n",
    "plt.show()"
   ]
  },
  {
   "cell_type": "markdown",
   "metadata": {},
   "source": [
    "### ⏳ Censura temporal y validez de la etiqueta\n",
    "\n",
    "- Solo podemos etiquetar un pedido como \"recompra en ≤H\" si su fecha está al menos **H** días antes del máximo `t` del dataset.  \n",
    "- Pedidos más recientes que `max(t) - H` quedan **censurados** (no sabemos si habría recompra a tiempo)."
   ]
  },
  {
   "cell_type": "code",
   "execution_count": 13,
   "metadata": {
    "trusted": true
   },
   "outputs": [
    {
     "name": "stdout",
     "output_type": "stream",
     "text": [
      "Fecha máxima del dataset: 2018-10-17 17:30:18\n",
      "Pedidos con etiqueta válida (t ≤ max_t - H): 71.66%\n",
      "Pedidos válidos para evaluación: 71257\n"
     ]
    },
    {
     "data": {
      "text/html": [
       "<div>\n",
       "<style scoped>\n",
       "    .dataframe tbody tr th:only-of-type {\n",
       "        vertical-align: middle;\n",
       "    }\n",
       "\n",
       "    .dataframe tbody tr th {\n",
       "        vertical-align: top;\n",
       "    }\n",
       "\n",
       "    .dataframe thead th {\n",
       "        text-align: right;\n",
       "    }\n",
       "</style>\n",
       "<table border=\"1\" class=\"dataframe\">\n",
       "  <thead>\n",
       "    <tr style=\"text-align: right;\">\n",
       "      <th></th>\n",
       "      <th>t</th>\n",
       "      <th>next_t</th>\n",
       "      <th>repeat_in_H</th>\n",
       "      <th>churn_H</th>\n",
       "    </tr>\n",
       "  </thead>\n",
       "  <tbody>\n",
       "    <tr>\n",
       "      <th>2</th>\n",
       "      <td>2017-03-10 21:05:03</td>\n",
       "      <td>NaT</td>\n",
       "      <td>0.0</td>\n",
       "      <td>1.0</td>\n",
       "    </tr>\n",
       "    <tr>\n",
       "      <th>3</th>\n",
       "      <td>2017-10-12 20:29:41</td>\n",
       "      <td>NaT</td>\n",
       "      <td>0.0</td>\n",
       "      <td>1.0</td>\n",
       "    </tr>\n",
       "    <tr>\n",
       "      <th>4</th>\n",
       "      <td>2017-11-14 19:45:42</td>\n",
       "      <td>NaT</td>\n",
       "      <td>0.0</td>\n",
       "      <td>1.0</td>\n",
       "    </tr>\n",
       "    <tr>\n",
       "      <th>5</th>\n",
       "      <td>2018-04-05 19:33:16</td>\n",
       "      <td>NaT</td>\n",
       "      <td>0.0</td>\n",
       "      <td>1.0</td>\n",
       "    </tr>\n",
       "    <tr>\n",
       "      <th>6</th>\n",
       "      <td>2018-04-20 12:57:23</td>\n",
       "      <td>NaT</td>\n",
       "      <td>0.0</td>\n",
       "      <td>1.0</td>\n",
       "    </tr>\n",
       "  </tbody>\n",
       "</table>\n",
       "</div>"
      ],
      "text/plain": [
       "                    t next_t  repeat_in_H  churn_H\n",
       "2 2017-03-10 21:05:03    NaT          0.0      1.0\n",
       "3 2017-10-12 20:29:41    NaT          0.0      1.0\n",
       "4 2017-11-14 19:45:42    NaT          0.0      1.0\n",
       "5 2018-04-05 19:33:16    NaT          0.0      1.0\n",
       "6 2018-04-20 12:57:23    NaT          0.0      1.0"
      ]
     },
     "execution_count": 13,
     "metadata": {},
     "output_type": "execute_result"
    }
   ],
   "source": [
    "H = pd.Timedelta(days=H_DAYS)\n",
    "max_t = orders['t'].max()\n",
    "orders['label_valid'] = orders['t'] <= (max_t - H)\n",
    "\n",
    "valid_rate = orders['label_valid'].mean()\n",
    "print(\"Fecha máxima del dataset:\", max_t)\n",
    "print(f\"Pedidos con etiqueta válida (t ≤ max_t - H): {valid_rate:.2%}\")\n",
    "\n",
    "# Etiquetado por pedido\n",
    "orders['next_t'] = orders.groupby('customer_unique_id')['t'].shift(-1)\n",
    "orders['repeat_in_H'] = ((orders['next_t'] - orders['t']) <= H).astype('float')\n",
    "orders.loc[orders['next_t'].isna(), 'repeat_in_H'] = 0.0  # si no hay próxima compra, no hay recompra en H\n",
    "# invalidar etiquetas en censura\n",
    "orders.loc[~orders['label_valid'], 'repeat_in_H'] = np.nan\n",
    "\n",
    "# Versión \"churn_H\" = no hay recompra en ≤H\n",
    "orders['churn_H'] = (1 - orders['repeat_in_H']).where(orders['repeat_in_H'].notna(), np.nan)\n",
    "\n",
    "orders_valid = orders[orders['label_valid']].copy()\n",
    "print(\"Pedidos válidos para evaluación:\", len(orders_valid))\n",
    "orders_valid[['t','next_t','repeat_in_H','churn_H']].head(5)"
   ]
  },
  {
   "cell_type": "markdown",
   "metadata": {},
   "source": [
    "### ⚖️ Prevalencia y baseline teórico\n",
    "\n",
    "- Target **repeat_in_H = 1** (segunda compra en ≤H).  \n",
    "- **Prevalencia** = proporción de 1s en válidos.  \n",
    "- **Baseline PR-AUC** de un ranking aleatorio = prevalencia."
   ]
  },
  {
   "cell_type": "code",
   "execution_count": 14,
   "metadata": {
    "trusted": true
   },
   "outputs": [
    {
     "name": "stdout",
     "output_type": "stream",
     "text": [
      "Prevalencia repeat_in_H (válidos): 0.0331 (3.31%)\n",
      "Baseline PR-AUC (azar): 0.0331\n",
      "k=10% -> Precision@k (cota superior): 0.331 | Lift@k máx.: 10.00x\n",
      "k=20% -> Precision@k (cota superior): 0.165 | Lift@k máx.: 5.00x\n"
     ]
    }
   ],
   "source": [
    "prev = orders_valid['repeat_in_H'].mean()\n",
    "print(f\"Prevalencia repeat_in_H (válidos): {prev:.4f} ({prev:.2%})\")\n",
    "print(f\"Baseline PR-AUC (azar): {prev:.4f}\")\n",
    "\n",
    "# Cotas para Precision@k y Lift@k bajo *ranking perfecto*\n",
    "def precision_upper_bound(prevalence, k_frac):\n",
    "    # En el mejor de los casos, todo lo positivo cae arriba\n",
    "    # Precision@k = min(1, prevalence / k_frac) si k_frac <= 1\n",
    "    return min(1.0, prevalence / k_frac)\n",
    "\n",
    "for k in (0.1, 0.2):\n",
    "    p_up = precision_upper_bound(prev, k)\n",
    "    lift_up = p_up / prev if prev > 0 else float('inf')\n",
    "    print(f\"k={int(k*100)}% -> Precision@k (cota superior): {p_up:.3f} | Lift@k máx.: {lift_up:.2f}x\")"
   ]
  },
  {
   "cell_type": "markdown",
   "metadata": {},
   "source": [
    "### 🧾 Resumen y recomendación\n",
    "\n",
    "- **% clientes con ≥2 compras** bajo (poca señal).  \n",
    "- **Censura** reduce aún más los ejemplos válidos para etiquetar.  \n",
    "- **Prevalencia** de *repeat_in_H* baja ⇒ **PR-AUC base** muy baja.  \n",
    "- Para **churn real**, faltan datos de CRM/exposición/estado de baja."
   ]
  }
 ],
 "metadata": {
  "kernelspec": {
   "display_name": "geeks",
   "language": "python",
   "name": "python3"
  },
  "language_info": {
   "codemirror_mode": {
    "name": "ipython",
    "version": 3
   },
   "file_extension": ".py",
   "mimetype": "text/x-python",
   "name": "python",
   "nbconvert_exporter": "python",
   "pygments_lexer": "ipython3",
   "version": "3.12.9"
  }
 },
 "nbformat": 4,
 "nbformat_minor": 5
}
